{
 "cells": [
  {
   "cell_type": "markdown",
   "metadata": {},
   "source": [
    "# Web APIs\n",
    "\n",
    "## 1. Consuming Web APIs\n",
    "\n",
    "(Partially adapted from https://www.dataquest.io/blog/python-api-tutorial/)\n",
    "\n",
    "* https://randomuser.me/ is a random user generator \n",
    "*\tIt has an API. Go to https://api.randomuser.me/ with your browser\n",
    "*\tYou get a JSON (JavaScript Object Notation) back. A JSON is similar to a Python dictionary.  \n",
    "*  Refresh the browser\n",
    "*\tYou can add query parameters. They are added to the URL with a ? . You then add then the parameter name = the value. More the one parameter are connected with a & e.g.\n",
    "\thttp://api.open-notify.org/iss-pass.json?lat=37.78&lon=-122.41\n",
    "\n",
    "*\t Go the documentation https://randomuser.me/documentation and check how you can get multiple users and to specify constraints on the output\n",
    "*\tGo to your browser and add parameters to https://api.randomuser.me/ so that you get 5 results of only males from the US\n",
    "\n",
    "Enter the URL of your solution:"
   ]
  },
  {
   "cell_type": "code",
   "execution_count": 95,
   "metadata": {
    "collapsed": true
   },
   "outputs": [],
   "source": [
    "# TODO: get 5 results of only males from the US\n",
    "# Enter the URL of your solution:\n",
    "url = https://randomuser.me/api/?results=5&?gender=male&nat=us"
   ]
  },
  {
   "cell_type": "markdown",
   "metadata": {},
   "source": [
    "* You can also get the data from the command line. Open the command line and write\n",
    "\n",
    "```bash\n",
    "curl -s https://api.randomuser.me/\n",
    "```\n",
    "\n",
    "You can also run Bash commands directly in your Jupyter Notebook with !:"
   ]
  },
  {
   "cell_type": "code",
   "execution_count": 134,
   "metadata": {
    "collapsed": true
   },
   "outputs": [
    {
     "name": "stdout",
     "output_type": "stream",
     "text": [
      "{\"results\":[{\"gender\":\"male\",\"name\":{\"title\":\"mr\",\"first\":\"adosindo\",\"last\":\"da rosa\"},\"location\":{\"street\":\"6419 rua santa maria \",\"city\":\"várzea paulista\",\"state\":\"roraima\",\"postcode\":47304,\"coordinates\":{\"latitude\":\"-71.5682\",\"longitude\":\"-143.1902\"},\"timezone\":{\"offset\":\"+9:00\",\"description\":\"Tokyo, Seoul, Osaka, Sapporo, Yakutsk\"}},\"email\":\"adosindo.darosa@example.com\",\"login\":{\"uuid\":\"05eaafd6-b82c-4e5b-933c-2dd71f42c004\",\"username\":\"bluerabbit252\",\"password\":\"champs\",\"salt\":\"SIiV4uSJ\",\"md5\":\"294f9a9ac6743aa001020ba3fa0233af\",\"sha1\":\"b2c7f8dd8f1460fcc4d8e5c1ffcc5757f7540c5f\",\"sha256\":\"bcc80150d61609b766b75a7aba0ec419adb4360d244d65fea101ca409017cf48\"},\"dob\":{\"date\":\"1990-04-20T12:40:30Z\",\"age\":29},\"registered\":{\"date\":\"2015-08-15T21:03:50Z\",\"age\":3},\"phone\":\"(09) 2170-0284\",\"cell\":\"(73) 1699-7996\",\"id\":{\"name\":\"\",\"value\":null},\"picture\":{\"large\":\"https://randomuser.me/api/portraits/men/49.jpg\",\"medium\":\"https://randomuser.me/api/portraits/med/men/49.jpg\",\"thumbnail\":\"https://randomuser.me/api/portraits/thumb/men/49.jpg\"},\"nat\":\"BR\"}],\"info\":{\"seed\":\"31c5aa4e12382843\",\"results\":1,\"page\":1,\"version\":\"1.2\"}}"
     ]
    }
   ],
   "source": [
    "!curl -s https://api.randomuser.me/"
   ]
  },
  {
   "cell_type": "markdown",
   "metadata": {},
   "source": [
    "* Import the two libraries \n",
    "    * `requests` and \n",
    "    * `json`. \n",
    "\n",
    "You can find the documentation for the requests package here:\n",
    " http://www.python-requests.org/en/latest/ \n",
    " "
   ]
  },
  {
   "cell_type": "markdown",
   "metadata": {},
   "source": [
    "Note: New link https://2.python-requests.org//de/latest/ ?"
   ]
  },
  {
   "cell_type": "code",
   "execution_count": 135,
   "metadata": {},
   "outputs": [],
   "source": [
    "import requests\n",
    "import json"
   ]
  },
  {
   "cell_type": "markdown",
   "metadata": {},
   "source": [
    "* With the requests package you can call a Web API with the URL and the method get"
   ]
  },
  {
   "cell_type": "code",
   "execution_count": 136,
   "metadata": {
    "collapsed": true
   },
   "outputs": [],
   "source": [
    "response = requests.get(\"https://api.randomuser.me/\")"
   ]
  },
  {
   "cell_type": "markdown",
   "metadata": {},
   "source": [
    "* Print the status code of the request"
   ]
  },
  {
   "cell_type": "code",
   "execution_count": 137,
   "metadata": {
    "collapsed": true
   },
   "outputs": [
    {
     "name": "stdout",
     "output_type": "stream",
     "text": [
      "200\n"
     ]
    }
   ],
   "source": [
    "print(response.status_code)"
   ]
  },
  {
   "cell_type": "markdown",
   "metadata": {},
   "source": [
    "**The meaning of the status codes are:**\n",
    "* 200: everything went okay, and the result has been returned (if any)\n",
    "* 301: the server is redirecting you to a different endpoint. This can happen when a company switches domain names, or an endpoint name is changed.\n",
    "* 401: the server thinks you're not authenticated. This happens when you don't send the right credentials to access an API.\n",
    "* 400: the server thinks you made a bad request. This can happen when you don't send along the right data, among other things.\n",
    "* 403: the resource you're trying to access is forbidden – you don't have the right permissions to see it.\n",
    "* 404: the resource you tried to access wasn't found on the server.\n"
   ]
  },
  {
   "cell_type": "markdown",
   "metadata": {},
   "source": [
    "You can specify the query parameters for a URL with a Python dictionary like this:\n",
    "```python\n",
    "parameters = {\"lat\": 37.78, \"lon\": -122.41}\n",
    "```\n",
    "\n",
    "And pass the parameter to the request like this\n",
    "```python\n",
    "response = requests.get(\"http://api.open-notify.org/iss-pass.json\", params=parameters)\n",
    "```\n",
    "This is the same as \n",
    "```python\n",
    "response = requests.get(\"http://api.open-notify.org/iss-pass.json?lat=37.78&lon=-122.41\")\n",
    "```\n",
    "\n",
    "Alternatively you could build also the URL with the parameters by yourself with string concatenation. \n",
    "\n",
    "* Get with the request method 10 results of only males from the US.\n",
    "\n"
   ]
  },
  {
   "cell_type": "code",
   "execution_count": 138,
   "metadata": {
    "collapsed": true
   },
   "outputs": [],
   "source": [
    "# TODO: Get with the request method 10 results of only males from the US.\n",
    "response = requests.get('https://randomuser.me/api/?results=10&?gender=male&nat=us')"
   ]
  },
  {
   "cell_type": "markdown",
   "metadata": {},
   "source": [
    "* You can show the result of the request with the method text"
   ]
  },
  {
   "cell_type": "code",
   "execution_count": 139,
   "metadata": {
    "collapsed": true,
    "scrolled": true
   },
   "outputs": [
    {
     "data": {
      "text/plain": [
       "'{\"results\":[{\"gender\":\"male\",\"name\":{\"title\":\"mr\",\"first\":\"herbert\",\"last\":\"may\"},\"location\":{\"street\":\"4184 hickory creek dr\",\"city\":\"huntington beach\",\"state\":\"tennessee\",\"postcode\":46619,\"coordinates\":{\"latitude\":\"-16.2588\",\"longitude\":\"-56.2212\"},\"timezone\":{\"offset\":\"+4:30\",\"description\":\"Kabul\"}},\"email\":\"herbert.may@example.com\",\"login\":{\"uuid\":\"68a656d6-7977-4f6a-88c3-818eae2a10f6\",\"username\":\"smallelephant603\",\"password\":\"katie1\",\"salt\":\"BLCD9yQp\",\"md5\":\"a8a51385cf0a3c6160fd09ca8fd73d98\",\"sha1\":\"a0df9057f1e3ac2a3254f745b8f36e6280ceb314\",\"sha256\":\"18caf54a03155e7f476978dbbfbfd5ce875d4773b431422561803ead5a6a31a0\"},\"dob\":{\"date\":\"1951-01-21T06:41:50Z\",\"age\":68},\"registered\":{\"date\":\"2011-03-11T10:40:08Z\",\"age\":8},\"phone\":\"(691)-610-9310\",\"cell\":\"(712)-610-1834\",\"id\":{\"name\":\"SSN\",\"value\":\"543-56-9465\"},\"picture\":{\"large\":\"https://randomuser.me/api/portraits/men/92.jpg\",\"medium\":\"https://randomuser.me/api/portraits/med/men/92.jpg\",\"thumbnail\":\"https://randomuser.me/api/portraits/thumb/men/92.jpg\"},\"nat\":\"US\"},{\"gender\":\"female\",\"name\":{\"title\":\"miss\",\"first\":\"michelle\",\"last\":\"perez\"},\"location\":{\"street\":\"7446 pockrus page rd\",\"city\":\"costa mesa\",\"state\":\"delaware\",\"postcode\":48780,\"coordinates\":{\"latitude\":\"-60.1404\",\"longitude\":\"-161.2402\"},\"timezone\":{\"offset\":\"+6:00\",\"description\":\"Almaty, Dhaka, Colombo\"}},\"email\":\"michelle.perez@example.com\",\"login\":{\"uuid\":\"b24a303d-5797-4589-a798-8cbb3cba3268\",\"username\":\"purpledog208\",\"password\":\"aviation\",\"salt\":\"G0KT2dCu\",\"md5\":\"efabd57472c7da31fd746e14878fda15\",\"sha1\":\"414760e233c8fa26fc8f9582eb507b386146d641\",\"sha256\":\"6f8f93668fb0fe66110e8ae1b8dd2d5a25314748d8ea24571c6212b4369099f9\"},\"dob\":{\"date\":\"1951-01-17T16:11:40Z\",\"age\":68},\"registered\":{\"date\":\"2003-07-12T21:09:56Z\",\"age\":15},\"phone\":\"(272)-271-9020\",\"cell\":\"(913)-787-0250\",\"id\":{\"name\":\"SSN\",\"value\":\"748-06-3335\"},\"picture\":{\"large\":\"https://randomuser.me/api/portraits/women/13.jpg\",\"medium\":\"https://randomuser.me/api/portraits/med/women/13.jpg\",\"thumbnail\":\"https://randomuser.me/api/portraits/thumb/women/13.jpg\"},\"nat\":\"US\"},{\"gender\":\"male\",\"name\":{\"title\":\"mr\",\"first\":\"calvin\",\"last\":\"oliver\"},\"location\":{\"street\":\"7504 dogwood ave\",\"city\":\"oklahoma city\",\"state\":\"new mexico\",\"postcode\":39129,\"coordinates\":{\"latitude\":\"89.6054\",\"longitude\":\"30.0235\"},\"timezone\":{\"offset\":\"-3:00\",\"description\":\"Brazil, Buenos Aires, Georgetown\"}},\"email\":\"calvin.oliver@example.com\",\"login\":{\"uuid\":\"bd075192-1112-44c3-bb2e-030f26cdc139\",\"username\":\"organicgorilla268\",\"password\":\"lololo\",\"salt\":\"kje3gY7q\",\"md5\":\"153536ace727874d6d6a724efa2b3b1c\",\"sha1\":\"3fbc05e9e5d264a04182a13f7cb6c496f9f3bd52\",\"sha256\":\"5ba173296c4aa0ff1049c6cc342a3ab9711e857b5933c4841511532ffc879c04\"},\"dob\":{\"date\":\"1952-03-06T22:29:23Z\",\"age\":67},\"registered\":{\"date\":\"2005-07-19T11:04:13Z\",\"age\":13},\"phone\":\"(523)-363-3451\",\"cell\":\"(175)-728-0998\",\"id\":{\"name\":\"SSN\",\"value\":\"457-04-1870\"},\"picture\":{\"large\":\"https://randomuser.me/api/portraits/men/91.jpg\",\"medium\":\"https://randomuser.me/api/portraits/med/men/91.jpg\",\"thumbnail\":\"https://randomuser.me/api/portraits/thumb/men/91.jpg\"},\"nat\":\"US\"},{\"gender\":\"female\",\"name\":{\"title\":\"ms\",\"first\":\"marsha\",\"last\":\"wade\"},\"location\":{\"street\":\"3157 w campbell ave\",\"city\":\"baton rouge\",\"state\":\"north carolina\",\"postcode\":23326,\"coordinates\":{\"latitude\":\"-72.9955\",\"longitude\":\"76.3871\"},\"timezone\":{\"offset\":\"+4:30\",\"description\":\"Kabul\"}},\"email\":\"marsha.wade@example.com\",\"login\":{\"uuid\":\"7c0a5458-202a-45c2-a952-21e1ce489622\",\"username\":\"silvermouse394\",\"password\":\"rene\",\"salt\":\"hYEl7Cq5\",\"md5\":\"80bd4d93f2b0b94ead24091b39446e6f\",\"sha1\":\"c0bcaa409623317368b5b7e152745bb53c77fc17\",\"sha256\":\"cd6cc077cfd0a1dc068a845deb55c359bf7c9567b6bfec5f8117abb5e1a5ea5f\"},\"dob\":{\"date\":\"1964-11-15T17:08:58Z\",\"age\":54},\"registered\":{\"date\":\"2008-04-02T02:10:26Z\",\"age\":11},\"phone\":\"(653)-572-8444\",\"cell\":\"(055)-867-0564\",\"id\":{\"name\":\"SSN\",\"value\":\"162-01-3542\"},\"picture\":{\"large\":\"https://randomuser.me/api/portraits/women/92.jpg\",\"medium\":\"https://randomuser.me/api/portraits/med/women/92.jpg\",\"thumbnail\":\"https://randomuser.me/api/portraits/thumb/women/92.jpg\"},\"nat\":\"US\"},{\"gender\":\"male\",\"name\":{\"title\":\"mr\",\"first\":\"freddie\",\"last\":\"brown\"},\"location\":{\"street\":\"3863 oak lawn ave\",\"city\":\"gilbert\",\"state\":\"new york\",\"postcode\":72189,\"coordinates\":{\"latitude\":\"-53.0927\",\"longitude\":\"147.7061\"},\"timezone\":{\"offset\":\"+4:00\",\"description\":\"Abu Dhabi, Muscat, Baku, Tbilisi\"}},\"email\":\"freddie.brown@example.com\",\"login\":{\"uuid\":\"8366a456-833b-48c3-91fe-d68b062dc1b8\",\"username\":\"angryladybug330\",\"password\":\"tongue\",\"salt\":\"UNVSUzrD\",\"md5\":\"850dcfdca97e9c90c100e8769f17e13e\",\"sha1\":\"66dc6e970fd00e34f1d46f291888f0ac3e09b967\",\"sha256\":\"be5825c5eb1f316c435fdba56097d582aac742c2019de6f48421226689669332\"},\"dob\":{\"date\":\"1976-11-19T08:57:50Z\",\"age\":42},\"registered\":{\"date\":\"2017-01-18T10:56:33Z\",\"age\":2},\"phone\":\"(967)-432-5810\",\"cell\":\"(840)-045-5848\",\"id\":{\"name\":\"SSN\",\"value\":\"813-34-7420\"},\"picture\":{\"large\":\"https://randomuser.me/api/portraits/men/6.jpg\",\"medium\":\"https://randomuser.me/api/portraits/med/men/6.jpg\",\"thumbnail\":\"https://randomuser.me/api/portraits/thumb/men/6.jpg\"},\"nat\":\"US\"},{\"gender\":\"male\",\"name\":{\"title\":\"mr\",\"first\":\"duane\",\"last\":\"henderson\"},\"location\":{\"street\":\"3523 hunters creek dr\",\"city\":\"provo\",\"state\":\"mississippi\",\"postcode\":17792,\"coordinates\":{\"latitude\":\"29.2738\",\"longitude\":\"150.3669\"},\"timezone\":{\"offset\":\"-12:00\",\"description\":\"Eniwetok, Kwajalein\"}},\"email\":\"duane.henderson@example.com\",\"login\":{\"uuid\":\"aa5e1a21-c73e-474e-bca5-65fa868c4d77\",\"username\":\"goldenzebra412\",\"password\":\"just4me\",\"salt\":\"IM1BRk9K\",\"md5\":\"e938c6cd677a2ed2c7d84787bdacad01\",\"sha1\":\"4fb565e9ca848a998ae7cd4bf22effd4c15709e2\",\"sha256\":\"f5c61cb550e777f656a9359b5f41c80a09043317da31767d20825b17f0ac2e78\"},\"dob\":{\"date\":\"1945-08-21T08:10:58Z\",\"age\":73},\"registered\":{\"date\":\"2007-05-10T07:31:52Z\",\"age\":11},\"phone\":\"(431)-324-9553\",\"cell\":\"(728)-090-0883\",\"id\":{\"name\":\"SSN\",\"value\":\"945-43-3473\"},\"picture\":{\"large\":\"https://randomuser.me/api/portraits/men/76.jpg\",\"medium\":\"https://randomuser.me/api/portraits/med/men/76.jpg\",\"thumbnail\":\"https://randomuser.me/api/portraits/thumb/men/76.jpg\"},\"nat\":\"US\"},{\"gender\":\"male\",\"name\":{\"title\":\"mr\",\"first\":\"byron\",\"last\":\"grant\"},\"location\":{\"street\":\"3676 miller ave\",\"city\":\"lafayette\",\"state\":\"new mexico\",\"postcode\":71892,\"coordinates\":{\"latitude\":\"-3.9069\",\"longitude\":\"-173.8289\"},\"timezone\":{\"offset\":\"+5:30\",\"description\":\"Bombay, Calcutta, Madras, New Delhi\"}},\"email\":\"byron.grant@example.com\",\"login\":{\"uuid\":\"89dab09a-72a4-4026-8741-6519695abbac\",\"username\":\"whitetiger487\",\"password\":\"pinkfloy\",\"salt\":\"2VrAC0zG\",\"md5\":\"cf671f5b02abed3cf0d0c2c98ae18c8a\",\"sha1\":\"41ebfedd96d5fbf64bfe352d9370e0d1990cfc3b\",\"sha256\":\"759485ca220a04116bc8ba273193cb446d8e43a40c9400c4e0989c652bfb3b03\"},\"dob\":{\"date\":\"1974-03-24T18:03:27Z\",\"age\":45},\"registered\":{\"date\":\"2005-07-11T19:08:35Z\",\"age\":13},\"phone\":\"(459)-943-2673\",\"cell\":\"(553)-023-5380\",\"id\":{\"name\":\"SSN\",\"value\":\"156-21-7505\"},\"picture\":{\"large\":\"https://randomuser.me/api/portraits/men/95.jpg\",\"medium\":\"https://randomuser.me/api/portraits/med/men/95.jpg\",\"thumbnail\":\"https://randomuser.me/api/portraits/thumb/men/95.jpg\"},\"nat\":\"US\"},{\"gender\":\"female\",\"name\":{\"title\":\"miss\",\"first\":\"florence\",\"last\":\"austin\"},\"location\":{\"street\":\"1503 karen dr\",\"city\":\"round rock\",\"state\":\"alaska\",\"postcode\":27264,\"coordinates\":{\"latitude\":\"38.4103\",\"longitude\":\"92.5498\"},\"timezone\":{\"offset\":\"-11:00\",\"description\":\"Midway Island, Samoa\"}},\"email\":\"florence.austin@example.com\",\"login\":{\"uuid\":\"647e0749-e1eb-4b75-b8d2-0d701789d7dd\",\"username\":\"smallbird382\",\"password\":\"stayout\",\"salt\":\"iFUEBb6c\",\"md5\":\"09ea4c7db56d55d8496380b8a0f3cf06\",\"sha1\":\"7767de3a0c418d9162d4ce226180c7b651a319a0\",\"sha256\":\"6c9ace6548048deeaa5e479e1191b66d65fdd20c90f951529b6a1ba9b0c59ba9\"},\"dob\":{\"date\":\"1992-12-18T05:12:47Z\",\"age\":26},\"registered\":{\"date\":\"2005-08-03T08:09:04Z\",\"age\":13},\"phone\":\"(180)-890-7634\",\"cell\":\"(826)-123-7802\",\"id\":{\"name\":\"SSN\",\"value\":\"109-25-1772\"},\"picture\":{\"large\":\"https://randomuser.me/api/portraits/women/65.jpg\",\"medium\":\"https://randomuser.me/api/portraits/med/women/65.jpg\",\"thumbnail\":\"https://randomuser.me/api/portraits/thumb/women/65.jpg\"},\"nat\":\"US\"},{\"gender\":\"female\",\"name\":{\"title\":\"mrs\",\"first\":\"regina\",\"last\":\"morris\"},\"location\":{\"street\":\"3577 adams st\",\"city\":\"san jose\",\"state\":\"texas\",\"postcode\":77844,\"coordinates\":{\"latitude\":\"-68.4923\",\"longitude\":\"-42.3372\"},\"timezone\":{\"offset\":\"+6:00\",\"description\":\"Almaty, Dhaka, Colombo\"}},\"email\":\"regina.morris@example.com\",\"login\":{\"uuid\":\"56c740d5-4605-46b7-989d-7b2f985f505c\",\"username\":\"ticklishfish919\",\"password\":\"smith1\",\"salt\":\"dUQ4WX04\",\"md5\":\"45d0f71b7cf6f46642518508c93fba25\",\"sha1\":\"dcf86cade7085c3cfb7fda272bb603f43e11839b\",\"sha256\":\"4fe9acf92ee97db0b463a53b1976fcf798881f9ba92e7d1e1dac0181a5ec0d26\"},\"dob\":{\"date\":\"1952-05-21T06:44:51Z\",\"age\":66},\"registered\":{\"date\":\"2005-08-01T15:29:13Z\",\"age\":13},\"phone\":\"(162)-363-5883\",\"cell\":\"(786)-402-8411\",\"id\":{\"name\":\"SSN\",\"value\":\"310-04-4895\"},\"picture\":{\"large\":\"https://randomuser.me/api/portraits/women/13.jpg\",\"medium\":\"https://randomuser.me/api/portraits/med/women/13.jpg\",\"thumbnail\":\"https://randomuser.me/api/portraits/thumb/women/13.jpg\"},\"nat\":\"US\"},{\"gender\":\"male\",\"name\":{\"title\":\"mr\",\"first\":\"nelson\",\"last\":\"lewis\"},\"location\":{\"street\":\"2900 college st\",\"city\":\"palm bay\",\"state\":\"missouri\",\"postcode\":11826,\"coordinates\":{\"latitude\":\"-17.5528\",\"longitude\":\"-40.1643\"},\"timezone\":{\"offset\":\"+2:00\",\"description\":\"Kaliningrad, South Africa\"}},\"email\":\"nelson.lewis@example.com\",\"login\":{\"uuid\":\"1537f884-c4d0-4f01-9d4f-696566b50725\",\"username\":\"greengoose192\",\"password\":\"mexico\",\"salt\":\"Tzigonht\",\"md5\":\"e3cbb40b85db5c1ea9fa75a7c8b21f5c\",\"sha1\":\"7a43eb6d89b5acdb1cdb8d5670cb729b88618fa9\",\"sha256\":\"d5d395fc296c509f12f0e4e0a0ecb3771070923ee73baa461616cc772eee693a\"},\"dob\":{\"date\":\"1985-02-04T21:32:36Z\",\"age\":34},\"registered\":{\"date\":\"2012-07-17T23:40:53Z\",\"age\":6},\"phone\":\"(181)-677-9743\",\"cell\":\"(765)-326-9286\",\"id\":{\"name\":\"SSN\",\"value\":\"679-20-6878\"},\"picture\":{\"large\":\"https://randomuser.me/api/portraits/men/64.jpg\",\"medium\":\"https://randomuser.me/api/portraits/med/men/64.jpg\",\"thumbnail\":\"https://randomuser.me/api/portraits/thumb/men/64.jpg\"},\"nat\":\"US\"}],\"info\":{\"seed\":\"027e597746d19b1c\",\"results\":10,\"page\":1,\"version\":\"1.2\"}}'"
      ]
     },
     "execution_count": 139,
     "metadata": {},
     "output_type": "execute_result"
    }
   ],
   "source": [
    "response.text"
   ]
  },
  {
   "cell_type": "markdown",
   "metadata": {},
   "source": [
    "* You can convert the data from JSON to a Python dictionary with the package JSON"
   ]
  },
  {
   "cell_type": "code",
   "execution_count": 140,
   "metadata": {
    "collapsed": true
   },
   "outputs": [],
   "source": [
    "data = json.loads(response.text)"
   ]
  },
  {
   "cell_type": "markdown",
   "metadata": {},
   "source": [
    "* Check the type of variable data"
   ]
  },
  {
   "cell_type": "code",
   "execution_count": 141,
   "metadata": {
    "collapsed": true
   },
   "outputs": [
    {
     "name": "stdout",
     "output_type": "stream",
     "text": [
      "<class 'dict'>\n"
     ]
    }
   ],
   "source": [
    "print(type(data))"
   ]
  },
  {
   "cell_type": "code",
   "execution_count": 142,
   "metadata": {
    "collapsed": true
   },
   "outputs": [
    {
     "name": "stdout",
     "output_type": "stream",
     "text": [
      "{'results': [{'gender': 'male', 'name': {'title': 'mr', 'first': 'herbert', 'last': 'may'}, 'location': {'street': '4184 hickory creek dr', 'city': 'huntington beach', 'state': 'tennessee', 'postcode': 46619, 'coordinates': {'latitude': '-16.2588', 'longitude': '-56.2212'}, 'timezone': {'offset': '+4:30', 'description': 'Kabul'}}, 'email': 'herbert.may@example.com', 'login': {'uuid': '68a656d6-7977-4f6a-88c3-818eae2a10f6', 'username': 'smallelephant603', 'password': 'katie1', 'salt': 'BLCD9yQp', 'md5': 'a8a51385cf0a3c6160fd09ca8fd73d98', 'sha1': 'a0df9057f1e3ac2a3254f745b8f36e6280ceb314', 'sha256': '18caf54a03155e7f476978dbbfbfd5ce875d4773b431422561803ead5a6a31a0'}, 'dob': {'date': '1951-01-21T06:41:50Z', 'age': 68}, 'registered': {'date': '2011-03-11T10:40:08Z', 'age': 8}, 'phone': '(691)-610-9310', 'cell': '(712)-610-1834', 'id': {'name': 'SSN', 'value': '543-56-9465'}, 'picture': {'large': 'https://randomuser.me/api/portraits/men/92.jpg', 'medium': 'https://randomuser.me/api/portraits/med/men/92.jpg', 'thumbnail': 'https://randomuser.me/api/portraits/thumb/men/92.jpg'}, 'nat': 'US'}, {'gender': 'female', 'name': {'title': 'miss', 'first': 'michelle', 'last': 'perez'}, 'location': {'street': '7446 pockrus page rd', 'city': 'costa mesa', 'state': 'delaware', 'postcode': 48780, 'coordinates': {'latitude': '-60.1404', 'longitude': '-161.2402'}, 'timezone': {'offset': '+6:00', 'description': 'Almaty, Dhaka, Colombo'}}, 'email': 'michelle.perez@example.com', 'login': {'uuid': 'b24a303d-5797-4589-a798-8cbb3cba3268', 'username': 'purpledog208', 'password': 'aviation', 'salt': 'G0KT2dCu', 'md5': 'efabd57472c7da31fd746e14878fda15', 'sha1': '414760e233c8fa26fc8f9582eb507b386146d641', 'sha256': '6f8f93668fb0fe66110e8ae1b8dd2d5a25314748d8ea24571c6212b4369099f9'}, 'dob': {'date': '1951-01-17T16:11:40Z', 'age': 68}, 'registered': {'date': '2003-07-12T21:09:56Z', 'age': 15}, 'phone': '(272)-271-9020', 'cell': '(913)-787-0250', 'id': {'name': 'SSN', 'value': '748-06-3335'}, 'picture': {'large': 'https://randomuser.me/api/portraits/women/13.jpg', 'medium': 'https://randomuser.me/api/portraits/med/women/13.jpg', 'thumbnail': 'https://randomuser.me/api/portraits/thumb/women/13.jpg'}, 'nat': 'US'}, {'gender': 'male', 'name': {'title': 'mr', 'first': 'calvin', 'last': 'oliver'}, 'location': {'street': '7504 dogwood ave', 'city': 'oklahoma city', 'state': 'new mexico', 'postcode': 39129, 'coordinates': {'latitude': '89.6054', 'longitude': '30.0235'}, 'timezone': {'offset': '-3:00', 'description': 'Brazil, Buenos Aires, Georgetown'}}, 'email': 'calvin.oliver@example.com', 'login': {'uuid': 'bd075192-1112-44c3-bb2e-030f26cdc139', 'username': 'organicgorilla268', 'password': 'lololo', 'salt': 'kje3gY7q', 'md5': '153536ace727874d6d6a724efa2b3b1c', 'sha1': '3fbc05e9e5d264a04182a13f7cb6c496f9f3bd52', 'sha256': '5ba173296c4aa0ff1049c6cc342a3ab9711e857b5933c4841511532ffc879c04'}, 'dob': {'date': '1952-03-06T22:29:23Z', 'age': 67}, 'registered': {'date': '2005-07-19T11:04:13Z', 'age': 13}, 'phone': '(523)-363-3451', 'cell': '(175)-728-0998', 'id': {'name': 'SSN', 'value': '457-04-1870'}, 'picture': {'large': 'https://randomuser.me/api/portraits/men/91.jpg', 'medium': 'https://randomuser.me/api/portraits/med/men/91.jpg', 'thumbnail': 'https://randomuser.me/api/portraits/thumb/men/91.jpg'}, 'nat': 'US'}, {'gender': 'female', 'name': {'title': 'ms', 'first': 'marsha', 'last': 'wade'}, 'location': {'street': '3157 w campbell ave', 'city': 'baton rouge', 'state': 'north carolina', 'postcode': 23326, 'coordinates': {'latitude': '-72.9955', 'longitude': '76.3871'}, 'timezone': {'offset': '+4:30', 'description': 'Kabul'}}, 'email': 'marsha.wade@example.com', 'login': {'uuid': '7c0a5458-202a-45c2-a952-21e1ce489622', 'username': 'silvermouse394', 'password': 'rene', 'salt': 'hYEl7Cq5', 'md5': '80bd4d93f2b0b94ead24091b39446e6f', 'sha1': 'c0bcaa409623317368b5b7e152745bb53c77fc17', 'sha256': 'cd6cc077cfd0a1dc068a845deb55c359bf7c9567b6bfec5f8117abb5e1a5ea5f'}, 'dob': {'date': '1964-11-15T17:08:58Z', 'age': 54}, 'registered': {'date': '2008-04-02T02:10:26Z', 'age': 11}, 'phone': '(653)-572-8444', 'cell': '(055)-867-0564', 'id': {'name': 'SSN', 'value': '162-01-3542'}, 'picture': {'large': 'https://randomuser.me/api/portraits/women/92.jpg', 'medium': 'https://randomuser.me/api/portraits/med/women/92.jpg', 'thumbnail': 'https://randomuser.me/api/portraits/thumb/women/92.jpg'}, 'nat': 'US'}, {'gender': 'male', 'name': {'title': 'mr', 'first': 'freddie', 'last': 'brown'}, 'location': {'street': '3863 oak lawn ave', 'city': 'gilbert', 'state': 'new york', 'postcode': 72189, 'coordinates': {'latitude': '-53.0927', 'longitude': '147.7061'}, 'timezone': {'offset': '+4:00', 'description': 'Abu Dhabi, Muscat, Baku, Tbilisi'}}, 'email': 'freddie.brown@example.com', 'login': {'uuid': '8366a456-833b-48c3-91fe-d68b062dc1b8', 'username': 'angryladybug330', 'password': 'tongue', 'salt': 'UNVSUzrD', 'md5': '850dcfdca97e9c90c100e8769f17e13e', 'sha1': '66dc6e970fd00e34f1d46f291888f0ac3e09b967', 'sha256': 'be5825c5eb1f316c435fdba56097d582aac742c2019de6f48421226689669332'}, 'dob': {'date': '1976-11-19T08:57:50Z', 'age': 42}, 'registered': {'date': '2017-01-18T10:56:33Z', 'age': 2}, 'phone': '(967)-432-5810', 'cell': '(840)-045-5848', 'id': {'name': 'SSN', 'value': '813-34-7420'}, 'picture': {'large': 'https://randomuser.me/api/portraits/men/6.jpg', 'medium': 'https://randomuser.me/api/portraits/med/men/6.jpg', 'thumbnail': 'https://randomuser.me/api/portraits/thumb/men/6.jpg'}, 'nat': 'US'}, {'gender': 'male', 'name': {'title': 'mr', 'first': 'duane', 'last': 'henderson'}, 'location': {'street': '3523 hunters creek dr', 'city': 'provo', 'state': 'mississippi', 'postcode': 17792, 'coordinates': {'latitude': '29.2738', 'longitude': '150.3669'}, 'timezone': {'offset': '-12:00', 'description': 'Eniwetok, Kwajalein'}}, 'email': 'duane.henderson@example.com', 'login': {'uuid': 'aa5e1a21-c73e-474e-bca5-65fa868c4d77', 'username': 'goldenzebra412', 'password': 'just4me', 'salt': 'IM1BRk9K', 'md5': 'e938c6cd677a2ed2c7d84787bdacad01', 'sha1': '4fb565e9ca848a998ae7cd4bf22effd4c15709e2', 'sha256': 'f5c61cb550e777f656a9359b5f41c80a09043317da31767d20825b17f0ac2e78'}, 'dob': {'date': '1945-08-21T08:10:58Z', 'age': 73}, 'registered': {'date': '2007-05-10T07:31:52Z', 'age': 11}, 'phone': '(431)-324-9553', 'cell': '(728)-090-0883', 'id': {'name': 'SSN', 'value': '945-43-3473'}, 'picture': {'large': 'https://randomuser.me/api/portraits/men/76.jpg', 'medium': 'https://randomuser.me/api/portraits/med/men/76.jpg', 'thumbnail': 'https://randomuser.me/api/portraits/thumb/men/76.jpg'}, 'nat': 'US'}, {'gender': 'male', 'name': {'title': 'mr', 'first': 'byron', 'last': 'grant'}, 'location': {'street': '3676 miller ave', 'city': 'lafayette', 'state': 'new mexico', 'postcode': 71892, 'coordinates': {'latitude': '-3.9069', 'longitude': '-173.8289'}, 'timezone': {'offset': '+5:30', 'description': 'Bombay, Calcutta, Madras, New Delhi'}}, 'email': 'byron.grant@example.com', 'login': {'uuid': '89dab09a-72a4-4026-8741-6519695abbac', 'username': 'whitetiger487', 'password': 'pinkfloy', 'salt': '2VrAC0zG', 'md5': 'cf671f5b02abed3cf0d0c2c98ae18c8a', 'sha1': '41ebfedd96d5fbf64bfe352d9370e0d1990cfc3b', 'sha256': '759485ca220a04116bc8ba273193cb446d8e43a40c9400c4e0989c652bfb3b03'}, 'dob': {'date': '1974-03-24T18:03:27Z', 'age': 45}, 'registered': {'date': '2005-07-11T19:08:35Z', 'age': 13}, 'phone': '(459)-943-2673', 'cell': '(553)-023-5380', 'id': {'name': 'SSN', 'value': '156-21-7505'}, 'picture': {'large': 'https://randomuser.me/api/portraits/men/95.jpg', 'medium': 'https://randomuser.me/api/portraits/med/men/95.jpg', 'thumbnail': 'https://randomuser.me/api/portraits/thumb/men/95.jpg'}, 'nat': 'US'}, {'gender': 'female', 'name': {'title': 'miss', 'first': 'florence', 'last': 'austin'}, 'location': {'street': '1503 karen dr', 'city': 'round rock', 'state': 'alaska', 'postcode': 27264, 'coordinates': {'latitude': '38.4103', 'longitude': '92.5498'}, 'timezone': {'offset': '-11:00', 'description': 'Midway Island, Samoa'}}, 'email': 'florence.austin@example.com', 'login': {'uuid': '647e0749-e1eb-4b75-b8d2-0d701789d7dd', 'username': 'smallbird382', 'password': 'stayout', 'salt': 'iFUEBb6c', 'md5': '09ea4c7db56d55d8496380b8a0f3cf06', 'sha1': '7767de3a0c418d9162d4ce226180c7b651a319a0', 'sha256': '6c9ace6548048deeaa5e479e1191b66d65fdd20c90f951529b6a1ba9b0c59ba9'}, 'dob': {'date': '1992-12-18T05:12:47Z', 'age': 26}, 'registered': {'date': '2005-08-03T08:09:04Z', 'age': 13}, 'phone': '(180)-890-7634', 'cell': '(826)-123-7802', 'id': {'name': 'SSN', 'value': '109-25-1772'}, 'picture': {'large': 'https://randomuser.me/api/portraits/women/65.jpg', 'medium': 'https://randomuser.me/api/portraits/med/women/65.jpg', 'thumbnail': 'https://randomuser.me/api/portraits/thumb/women/65.jpg'}, 'nat': 'US'}, {'gender': 'female', 'name': {'title': 'mrs', 'first': 'regina', 'last': 'morris'}, 'location': {'street': '3577 adams st', 'city': 'san jose', 'state': 'texas', 'postcode': 77844, 'coordinates': {'latitude': '-68.4923', 'longitude': '-42.3372'}, 'timezone': {'offset': '+6:00', 'description': 'Almaty, Dhaka, Colombo'}}, 'email': 'regina.morris@example.com', 'login': {'uuid': '56c740d5-4605-46b7-989d-7b2f985f505c', 'username': 'ticklishfish919', 'password': 'smith1', 'salt': 'dUQ4WX04', 'md5': '45d0f71b7cf6f46642518508c93fba25', 'sha1': 'dcf86cade7085c3cfb7fda272bb603f43e11839b', 'sha256': '4fe9acf92ee97db0b463a53b1976fcf798881f9ba92e7d1e1dac0181a5ec0d26'}, 'dob': {'date': '1952-05-21T06:44:51Z', 'age': 66}, 'registered': {'date': '2005-08-01T15:29:13Z', 'age': 13}, 'phone': '(162)-363-5883', 'cell': '(786)-402-8411', 'id': {'name': 'SSN', 'value': '310-04-4895'}, 'picture': {'large': 'https://randomuser.me/api/portraits/women/13.jpg', 'medium': 'https://randomuser.me/api/portraits/med/women/13.jpg', 'thumbnail': 'https://randomuser.me/api/portraits/thumb/women/13.jpg'}, 'nat': 'US'}, {'gender': 'male', 'name': {'title': 'mr', 'first': 'nelson', 'last': 'lewis'}, 'location': {'street': '2900 college st', 'city': 'palm bay', 'state': 'missouri', 'postcode': 11826, 'coordinates': {'latitude': '-17.5528', 'longitude': '-40.1643'}, 'timezone': {'offset': '+2:00', 'description': 'Kaliningrad, South Africa'}}, 'email': 'nelson.lewis@example.com', 'login': {'uuid': '1537f884-c4d0-4f01-9d4f-696566b50725', 'username': 'greengoose192', 'password': 'mexico', 'salt': 'Tzigonht', 'md5': 'e3cbb40b85db5c1ea9fa75a7c8b21f5c', 'sha1': '7a43eb6d89b5acdb1cdb8d5670cb729b88618fa9', 'sha256': 'd5d395fc296c509f12f0e4e0a0ecb3771070923ee73baa461616cc772eee693a'}, 'dob': {'date': '1985-02-04T21:32:36Z', 'age': 34}, 'registered': {'date': '2012-07-17T23:40:53Z', 'age': 6}, 'phone': '(181)-677-9743', 'cell': '(765)-326-9286', 'id': {'name': 'SSN', 'value': '679-20-6878'}, 'picture': {'large': 'https://randomuser.me/api/portraits/men/64.jpg', 'medium': 'https://randomuser.me/api/portraits/med/men/64.jpg', 'thumbnail': 'https://randomuser.me/api/portraits/thumb/men/64.jpg'}, 'nat': 'US'}], 'info': {'seed': '027e597746d19b1c', 'results': 10, 'page': 1, 'version': '1.2'}}\n"
     ]
    }
   ],
   "source": [
    "print(data)"
   ]
  },
  {
   "cell_type": "markdown",
   "metadata": {},
   "source": [
    "* *pretty-print* (pprint) prints complex data structures like dictionary prettier.  https://docs.python.org/3/library/pprint.html "
   ]
  },
  {
   "cell_type": "code",
   "execution_count": 143,
   "metadata": {
    "collapsed": true
   },
   "outputs": [
    {
     "name": "stdout",
     "output_type": "stream",
     "text": [
      "{'info': {'page': 1,\n",
      "          'results': 10,\n",
      "          'seed': '027e597746d19b1c',\n",
      "          'version': '1.2'},\n",
      " 'results': [{'cell': '(712)-610-1834',\n",
      "              'dob': {'age': 68, 'date': '1951-01-21T06:41:50Z'},\n",
      "              'email': 'herbert.may@example.com',\n",
      "              'gender': 'male',\n",
      "              'id': {'name': 'SSN', 'value': '543-56-9465'},\n",
      "              'location': {'city': 'huntington beach',\n",
      "                           'coordinates': {'latitude': '-16.2588',\n",
      "                                           'longitude': '-56.2212'},\n",
      "                           'postcode': 46619,\n",
      "                           'state': 'tennessee',\n",
      "                           'street': '4184 hickory creek dr',\n",
      "                           'timezone': {'description': 'Kabul',\n",
      "                                        'offset': '+4:30'}},\n",
      "              'login': {'md5': 'a8a51385cf0a3c6160fd09ca8fd73d98',\n",
      "                        'password': 'katie1',\n",
      "                        'salt': 'BLCD9yQp',\n",
      "                        'sha1': 'a0df9057f1e3ac2a3254f745b8f36e6280ceb314',\n",
      "                        'sha256': '18caf54a03155e7f476978dbbfbfd5ce875d4773b431422561803ead5a6a31a0',\n",
      "                        'username': 'smallelephant603',\n",
      "                        'uuid': '68a656d6-7977-4f6a-88c3-818eae2a10f6'},\n",
      "              'name': {'first': 'herbert', 'last': 'may', 'title': 'mr'},\n",
      "              'nat': 'US',\n",
      "              'phone': '(691)-610-9310',\n",
      "              'picture': {'large': 'https://randomuser.me/api/portraits/men/92.jpg',\n",
      "                          'medium': 'https://randomuser.me/api/portraits/med/men/92.jpg',\n",
      "                          'thumbnail': 'https://randomuser.me/api/portraits/thumb/men/92.jpg'},\n",
      "              'registered': {'age': 8, 'date': '2011-03-11T10:40:08Z'}},\n",
      "             {'cell': '(913)-787-0250',\n",
      "              'dob': {'age': 68, 'date': '1951-01-17T16:11:40Z'},\n",
      "              'email': 'michelle.perez@example.com',\n",
      "              'gender': 'female',\n",
      "              'id': {'name': 'SSN', 'value': '748-06-3335'},\n",
      "              'location': {'city': 'costa mesa',\n",
      "                           'coordinates': {'latitude': '-60.1404',\n",
      "                                           'longitude': '-161.2402'},\n",
      "                           'postcode': 48780,\n",
      "                           'state': 'delaware',\n",
      "                           'street': '7446 pockrus page rd',\n",
      "                           'timezone': {'description': 'Almaty, Dhaka, Colombo',\n",
      "                                        'offset': '+6:00'}},\n",
      "              'login': {'md5': 'efabd57472c7da31fd746e14878fda15',\n",
      "                        'password': 'aviation',\n",
      "                        'salt': 'G0KT2dCu',\n",
      "                        'sha1': '414760e233c8fa26fc8f9582eb507b386146d641',\n",
      "                        'sha256': '6f8f93668fb0fe66110e8ae1b8dd2d5a25314748d8ea24571c6212b4369099f9',\n",
      "                        'username': 'purpledog208',\n",
      "                        'uuid': 'b24a303d-5797-4589-a798-8cbb3cba3268'},\n",
      "              'name': {'first': 'michelle', 'last': 'perez', 'title': 'miss'},\n",
      "              'nat': 'US',\n",
      "              'phone': '(272)-271-9020',\n",
      "              'picture': {'large': 'https://randomuser.me/api/portraits/women/13.jpg',\n",
      "                          'medium': 'https://randomuser.me/api/portraits/med/women/13.jpg',\n",
      "                          'thumbnail': 'https://randomuser.me/api/portraits/thumb/women/13.jpg'},\n",
      "              'registered': {'age': 15, 'date': '2003-07-12T21:09:56Z'}},\n",
      "             {'cell': '(175)-728-0998',\n",
      "              'dob': {'age': 67, 'date': '1952-03-06T22:29:23Z'},\n",
      "              'email': 'calvin.oliver@example.com',\n",
      "              'gender': 'male',\n",
      "              'id': {'name': 'SSN', 'value': '457-04-1870'},\n",
      "              'location': {'city': 'oklahoma city',\n",
      "                           'coordinates': {'latitude': '89.6054',\n",
      "                                           'longitude': '30.0235'},\n",
      "                           'postcode': 39129,\n",
      "                           'state': 'new mexico',\n",
      "                           'street': '7504 dogwood ave',\n",
      "                           'timezone': {'description': 'Brazil, Buenos Aires, '\n",
      "                                                       'Georgetown',\n",
      "                                        'offset': '-3:00'}},\n",
      "              'login': {'md5': '153536ace727874d6d6a724efa2b3b1c',\n",
      "                        'password': 'lololo',\n",
      "                        'salt': 'kje3gY7q',\n",
      "                        'sha1': '3fbc05e9e5d264a04182a13f7cb6c496f9f3bd52',\n",
      "                        'sha256': '5ba173296c4aa0ff1049c6cc342a3ab9711e857b5933c4841511532ffc879c04',\n",
      "                        'username': 'organicgorilla268',\n",
      "                        'uuid': 'bd075192-1112-44c3-bb2e-030f26cdc139'},\n",
      "              'name': {'first': 'calvin', 'last': 'oliver', 'title': 'mr'},\n",
      "              'nat': 'US',\n",
      "              'phone': '(523)-363-3451',\n",
      "              'picture': {'large': 'https://randomuser.me/api/portraits/men/91.jpg',\n",
      "                          'medium': 'https://randomuser.me/api/portraits/med/men/91.jpg',\n",
      "                          'thumbnail': 'https://randomuser.me/api/portraits/thumb/men/91.jpg'},\n",
      "              'registered': {'age': 13, 'date': '2005-07-19T11:04:13Z'}},\n",
      "             {'cell': '(055)-867-0564',\n",
      "              'dob': {'age': 54, 'date': '1964-11-15T17:08:58Z'},\n",
      "              'email': 'marsha.wade@example.com',\n",
      "              'gender': 'female',\n",
      "              'id': {'name': 'SSN', 'value': '162-01-3542'},\n",
      "              'location': {'city': 'baton rouge',\n",
      "                           'coordinates': {'latitude': '-72.9955',\n",
      "                                           'longitude': '76.3871'},\n",
      "                           'postcode': 23326,\n",
      "                           'state': 'north carolina',\n",
      "                           'street': '3157 w campbell ave',\n",
      "                           'timezone': {'description': 'Kabul',\n",
      "                                        'offset': '+4:30'}},\n",
      "              'login': {'md5': '80bd4d93f2b0b94ead24091b39446e6f',\n",
      "                        'password': 'rene',\n",
      "                        'salt': 'hYEl7Cq5',\n",
      "                        'sha1': 'c0bcaa409623317368b5b7e152745bb53c77fc17',\n",
      "                        'sha256': 'cd6cc077cfd0a1dc068a845deb55c359bf7c9567b6bfec5f8117abb5e1a5ea5f',\n",
      "                        'username': 'silvermouse394',\n",
      "                        'uuid': '7c0a5458-202a-45c2-a952-21e1ce489622'},\n",
      "              'name': {'first': 'marsha', 'last': 'wade', 'title': 'ms'},\n",
      "              'nat': 'US',\n",
      "              'phone': '(653)-572-8444',\n",
      "              'picture': {'large': 'https://randomuser.me/api/portraits/women/92.jpg',\n",
      "                          'medium': 'https://randomuser.me/api/portraits/med/women/92.jpg',\n",
      "                          'thumbnail': 'https://randomuser.me/api/portraits/thumb/women/92.jpg'},\n",
      "              'registered': {'age': 11, 'date': '2008-04-02T02:10:26Z'}},\n",
      "             {'cell': '(840)-045-5848',\n",
      "              'dob': {'age': 42, 'date': '1976-11-19T08:57:50Z'},\n",
      "              'email': 'freddie.brown@example.com',\n",
      "              'gender': 'male',\n",
      "              'id': {'name': 'SSN', 'value': '813-34-7420'},\n",
      "              'location': {'city': 'gilbert',\n",
      "                           'coordinates': {'latitude': '-53.0927',\n",
      "                                           'longitude': '147.7061'},\n",
      "                           'postcode': 72189,\n",
      "                           'state': 'new york',\n",
      "                           'street': '3863 oak lawn ave',\n",
      "                           'timezone': {'description': 'Abu Dhabi, Muscat, '\n",
      "                                                       'Baku, Tbilisi',\n",
      "                                        'offset': '+4:00'}},\n",
      "              'login': {'md5': '850dcfdca97e9c90c100e8769f17e13e',\n",
      "                        'password': 'tongue',\n",
      "                        'salt': 'UNVSUzrD',\n",
      "                        'sha1': '66dc6e970fd00e34f1d46f291888f0ac3e09b967',\n",
      "                        'sha256': 'be5825c5eb1f316c435fdba56097d582aac742c2019de6f48421226689669332',\n",
      "                        'username': 'angryladybug330',\n",
      "                        'uuid': '8366a456-833b-48c3-91fe-d68b062dc1b8'},\n",
      "              'name': {'first': 'freddie', 'last': 'brown', 'title': 'mr'},\n",
      "              'nat': 'US',\n",
      "              'phone': '(967)-432-5810',\n",
      "              'picture': {'large': 'https://randomuser.me/api/portraits/men/6.jpg',\n",
      "                          'medium': 'https://randomuser.me/api/portraits/med/men/6.jpg',\n",
      "                          'thumbnail': 'https://randomuser.me/api/portraits/thumb/men/6.jpg'},\n",
      "              'registered': {'age': 2, 'date': '2017-01-18T10:56:33Z'}},\n",
      "             {'cell': '(728)-090-0883',\n",
      "              'dob': {'age': 73, 'date': '1945-08-21T08:10:58Z'},\n",
      "              'email': 'duane.henderson@example.com',\n",
      "              'gender': 'male',\n",
      "              'id': {'name': 'SSN', 'value': '945-43-3473'},\n",
      "              'location': {'city': 'provo',\n",
      "                           'coordinates': {'latitude': '29.2738',\n",
      "                                           'longitude': '150.3669'},\n",
      "                           'postcode': 17792,\n",
      "                           'state': 'mississippi',\n",
      "                           'street': '3523 hunters creek dr',\n",
      "                           'timezone': {'description': 'Eniwetok, Kwajalein',\n",
      "                                        'offset': '-12:00'}},\n",
      "              'login': {'md5': 'e938c6cd677a2ed2c7d84787bdacad01',\n",
      "                        'password': 'just4me',\n",
      "                        'salt': 'IM1BRk9K',\n",
      "                        'sha1': '4fb565e9ca848a998ae7cd4bf22effd4c15709e2',\n",
      "                        'sha256': 'f5c61cb550e777f656a9359b5f41c80a09043317da31767d20825b17f0ac2e78',\n",
      "                        'username': 'goldenzebra412',\n",
      "                        'uuid': 'aa5e1a21-c73e-474e-bca5-65fa868c4d77'},\n",
      "              'name': {'first': 'duane', 'last': 'henderson', 'title': 'mr'},\n",
      "              'nat': 'US',\n",
      "              'phone': '(431)-324-9553',\n",
      "              'picture': {'large': 'https://randomuser.me/api/portraits/men/76.jpg',\n",
      "                          'medium': 'https://randomuser.me/api/portraits/med/men/76.jpg',\n",
      "                          'thumbnail': 'https://randomuser.me/api/portraits/thumb/men/76.jpg'},\n",
      "              'registered': {'age': 11, 'date': '2007-05-10T07:31:52Z'}},\n",
      "             {'cell': '(553)-023-5380',\n",
      "              'dob': {'age': 45, 'date': '1974-03-24T18:03:27Z'},\n",
      "              'email': 'byron.grant@example.com',\n",
      "              'gender': 'male',\n",
      "              'id': {'name': 'SSN', 'value': '156-21-7505'},\n",
      "              'location': {'city': 'lafayette',\n",
      "                           'coordinates': {'latitude': '-3.9069',\n",
      "                                           'longitude': '-173.8289'},\n",
      "                           'postcode': 71892,\n",
      "                           'state': 'new mexico',\n",
      "                           'street': '3676 miller ave',\n",
      "                           'timezone': {'description': 'Bombay, Calcutta, '\n",
      "                                                       'Madras, New Delhi',\n",
      "                                        'offset': '+5:30'}},\n",
      "              'login': {'md5': 'cf671f5b02abed3cf0d0c2c98ae18c8a',\n",
      "                        'password': 'pinkfloy',\n",
      "                        'salt': '2VrAC0zG',\n",
      "                        'sha1': '41ebfedd96d5fbf64bfe352d9370e0d1990cfc3b',\n",
      "                        'sha256': '759485ca220a04116bc8ba273193cb446d8e43a40c9400c4e0989c652bfb3b03',\n",
      "                        'username': 'whitetiger487',\n",
      "                        'uuid': '89dab09a-72a4-4026-8741-6519695abbac'},\n",
      "              'name': {'first': 'byron', 'last': 'grant', 'title': 'mr'},\n",
      "              'nat': 'US',\n",
      "              'phone': '(459)-943-2673',\n",
      "              'picture': {'large': 'https://randomuser.me/api/portraits/men/95.jpg',\n",
      "                          'medium': 'https://randomuser.me/api/portraits/med/men/95.jpg',\n",
      "                          'thumbnail': 'https://randomuser.me/api/portraits/thumb/men/95.jpg'},\n",
      "              'registered': {'age': 13, 'date': '2005-07-11T19:08:35Z'}},\n",
      "             {'cell': '(826)-123-7802',\n",
      "              'dob': {'age': 26, 'date': '1992-12-18T05:12:47Z'},\n",
      "              'email': 'florence.austin@example.com',\n",
      "              'gender': 'female',\n",
      "              'id': {'name': 'SSN', 'value': '109-25-1772'},\n",
      "              'location': {'city': 'round rock',\n",
      "                           'coordinates': {'latitude': '38.4103',\n",
      "                                           'longitude': '92.5498'},\n",
      "                           'postcode': 27264,\n",
      "                           'state': 'alaska',\n",
      "                           'street': '1503 karen dr',\n",
      "                           'timezone': {'description': 'Midway Island, Samoa',\n",
      "                                        'offset': '-11:00'}},\n",
      "              'login': {'md5': '09ea4c7db56d55d8496380b8a0f3cf06',\n",
      "                        'password': 'stayout',\n",
      "                        'salt': 'iFUEBb6c',\n",
      "                        'sha1': '7767de3a0c418d9162d4ce226180c7b651a319a0',\n",
      "                        'sha256': '6c9ace6548048deeaa5e479e1191b66d65fdd20c90f951529b6a1ba9b0c59ba9',\n",
      "                        'username': 'smallbird382',\n",
      "                        'uuid': '647e0749-e1eb-4b75-b8d2-0d701789d7dd'},\n",
      "              'name': {'first': 'florence', 'last': 'austin', 'title': 'miss'},\n",
      "              'nat': 'US',\n",
      "              'phone': '(180)-890-7634',\n",
      "              'picture': {'large': 'https://randomuser.me/api/portraits/women/65.jpg',\n",
      "                          'medium': 'https://randomuser.me/api/portraits/med/women/65.jpg',\n",
      "                          'thumbnail': 'https://randomuser.me/api/portraits/thumb/women/65.jpg'},\n",
      "              'registered': {'age': 13, 'date': '2005-08-03T08:09:04Z'}},\n",
      "             {'cell': '(786)-402-8411',\n",
      "              'dob': {'age': 66, 'date': '1952-05-21T06:44:51Z'},\n",
      "              'email': 'regina.morris@example.com',\n",
      "              'gender': 'female',\n",
      "              'id': {'name': 'SSN', 'value': '310-04-4895'},\n",
      "              'location': {'city': 'san jose',\n",
      "                           'coordinates': {'latitude': '-68.4923',\n",
      "                                           'longitude': '-42.3372'},\n",
      "                           'postcode': 77844,\n",
      "                           'state': 'texas',\n",
      "                           'street': '3577 adams st',\n",
      "                           'timezone': {'description': 'Almaty, Dhaka, Colombo',\n",
      "                                        'offset': '+6:00'}},\n",
      "              'login': {'md5': '45d0f71b7cf6f46642518508c93fba25',\n",
      "                        'password': 'smith1',\n",
      "                        'salt': 'dUQ4WX04',\n",
      "                        'sha1': 'dcf86cade7085c3cfb7fda272bb603f43e11839b',\n",
      "                        'sha256': '4fe9acf92ee97db0b463a53b1976fcf798881f9ba92e7d1e1dac0181a5ec0d26',\n",
      "                        'username': 'ticklishfish919',\n",
      "                        'uuid': '56c740d5-4605-46b7-989d-7b2f985f505c'},\n",
      "              'name': {'first': 'regina', 'last': 'morris', 'title': 'mrs'},\n",
      "              'nat': 'US',\n",
      "              'phone': '(162)-363-5883',\n",
      "              'picture': {'large': 'https://randomuser.me/api/portraits/women/13.jpg',\n",
      "                          'medium': 'https://randomuser.me/api/portraits/med/women/13.jpg',\n",
      "                          'thumbnail': 'https://randomuser.me/api/portraits/thumb/women/13.jpg'},\n",
      "              'registered': {'age': 13, 'date': '2005-08-01T15:29:13Z'}},\n",
      "             {'cell': '(765)-326-9286',\n",
      "              'dob': {'age': 34, 'date': '1985-02-04T21:32:36Z'},\n",
      "              'email': 'nelson.lewis@example.com',\n",
      "              'gender': 'male',\n",
      "              'id': {'name': 'SSN', 'value': '679-20-6878'},\n",
      "              'location': {'city': 'palm bay',\n",
      "                           'coordinates': {'latitude': '-17.5528',\n",
      "                                           'longitude': '-40.1643'},\n",
      "                           'postcode': 11826,\n",
      "                           'state': 'missouri',\n",
      "                           'street': '2900 college st',\n",
      "                           'timezone': {'description': 'Kaliningrad, South '\n",
      "                                                       'Africa',\n",
      "                                        'offset': '+2:00'}},\n",
      "              'login': {'md5': 'e3cbb40b85db5c1ea9fa75a7c8b21f5c',\n",
      "                        'password': 'mexico',\n",
      "                        'salt': 'Tzigonht',\n",
      "                        'sha1': '7a43eb6d89b5acdb1cdb8d5670cb729b88618fa9',\n",
      "                        'sha256': 'd5d395fc296c509f12f0e4e0a0ecb3771070923ee73baa461616cc772eee693a',\n",
      "                        'username': 'greengoose192',\n",
      "                        'uuid': '1537f884-c4d0-4f01-9d4f-696566b50725'},\n",
      "              'name': {'first': 'nelson', 'last': 'lewis', 'title': 'mr'},\n",
      "              'nat': 'US',\n",
      "              'phone': '(181)-677-9743',\n",
      "              'picture': {'large': 'https://randomuser.me/api/portraits/men/64.jpg',\n",
      "                          'medium': 'https://randomuser.me/api/portraits/med/men/64.jpg',\n",
      "                          'thumbnail': 'https://randomuser.me/api/portraits/thumb/men/64.jpg'},\n",
      "              'registered': {'age': 6, 'date': '2012-07-17T23:40:53Z'}}]}\n"
     ]
    }
   ],
   "source": [
    "from pprint import pprint\n",
    "pprint(data)"
   ]
  },
  {
   "cell_type": "markdown",
   "metadata": {},
   "source": [
    "* Loop through the dictionary and print all first names"
   ]
  },
  {
   "cell_type": "code",
   "execution_count": 149,
   "metadata": {
    "collapsed": true
   },
   "outputs": [
    {
     "data": {
      "text/plain": [
       "['herbert',\n",
       " 'michelle',\n",
       " 'calvin',\n",
       " 'marsha',\n",
       " 'freddie',\n",
       " 'duane',\n",
       " 'byron',\n",
       " 'florence',\n",
       " 'regina',\n",
       " 'nelson']"
      ]
     },
     "execution_count": 149,
     "metadata": {},
     "output_type": "execute_result"
    }
   ],
   "source": [
    "[value['name']['first'] for value in data['results']]"
   ]
  },
  {
   "cell_type": "markdown",
   "metadata": {},
   "source": [
    "* Get all astronauts who are right now in space. You get the information about the Web APU from here  http://open-notify.org/Open-Notify-API/People-In-Space/ "
   ]
  },
  {
   "cell_type": "code",
   "execution_count": 150,
   "metadata": {
    "collapsed": true
   },
   "outputs": [],
   "source": [
    "response2 = requests.get('http://api.open-notify.org/astros.json')\n",
    "data2 = response2.json()"
   ]
  },
  {
   "cell_type": "markdown",
   "metadata": {},
   "source": [
    "* Print the number of people that are right now in space"
   ]
  },
  {
   "cell_type": "code",
   "execution_count": 151,
   "metadata": {
    "collapsed": true
   },
   "outputs": [
    {
     "name": "stdout",
     "output_type": "stream",
     "text": [
      "6\n"
     ]
    }
   ],
   "source": [
    "print(data2[\"number\"])"
   ]
  },
  {
   "cell_type": "markdown",
   "metadata": {},
   "source": [
    "* Print the names of all astronauts "
   ]
  },
  {
   "cell_type": "code",
   "execution_count": 155,
   "metadata": {
    "collapsed": true
   },
   "outputs": [
    {
     "data": {
      "text/plain": [
       "['Oleg Kononenko',\n",
       " 'David Saint-Jacques',\n",
       " 'Anne McClain',\n",
       " 'Alexey Ovchinin',\n",
       " 'Nick Hague',\n",
       " 'Christina Koch']"
      ]
     },
     "execution_count": 155,
     "metadata": {},
     "output_type": "execute_result"
    }
   ],
   "source": [
    "[value['name'] for value in data2['people']]"
   ]
  },
  {
   "cell_type": "code",
   "execution_count": 156,
   "metadata": {},
   "outputs": [
    {
     "name": "stdout",
     "output_type": "stream",
     "text": [
      "{'message': 'success', 'number': 6, 'people': [{'craft': 'ISS', 'name': 'Oleg Kononenko'}, {'craft': 'ISS', 'name': 'David Saint-Jacques'}, {'craft': 'ISS', 'name': 'Anne McClain'}, {'craft': 'ISS', 'name': 'Alexey Ovchinin'}, {'craft': 'ISS', 'name': 'Nick Hague'}, {'craft': 'ISS', 'name': 'Christina Koch'}]}\n"
     ]
    }
   ],
   "source": [
    "#verify dataset\n",
    "print(data2)"
   ]
  },
  {
   "cell_type": "markdown",
   "metadata": {},
   "source": [
    "* A lot of Web APIs require a api-key for interacting with them (like Twitter, Facebook, …). You find at http://www.python-requests.org/en/latest/user/authentication/ more information for Authentication for Web APIs with the request package\n",
    "* There are also special Python packages for interacting with services. E.g. for Twitter: http://www.tweepy.org/ or  https://github.com/bear/python-twitter \n",
    "\n",
    "See e.g. http://socialmedia-class.org/twittertutorial.html for a tutorial"
   ]
  },
  {
   "cell_type": "markdown",
   "metadata": {},
   "source": [
    "## 2. Creating a Web API\n",
    "\n",
    "* Create a folder `webapi` and change into it.\n",
    "* Create in the `webapi` folder a file with the name `Dockerfile` with the following content:\n",
    "\n",
    "----\n",
    "```bash\n",
    "# Use an official Python runtime as a parent image\n",
    "FROM python:3.7-slim\n",
    "\n",
    "# Set the working directory to /app\n",
    "WORKDIR /app\n",
    "\n",
    "# Copy the current directory contents into the container at /app\n",
    "COPY app/ /app\n",
    "\n",
    "# Install any needed packages specified in requirements.txt\n",
    "RUN pip install --trusted-host pypi.python.org -r requirements.txt\n",
    "\n",
    "# Make port 80 available to the world outside this container\n",
    "EXPOSE 80\n",
    "\n",
    "# Run app.py when the container launches\n",
    "CMD [\"python\", \"app.py\"]\n",
    "```\n",
    "\n",
    "-----\n",
    "\n",
    "* We can also use Docker compose with just one service. Create in your `webapi` folder a `docker-compose.yml` file:\n",
    "\n",
    "-----\n",
    "\n",
    "```yaml\n",
    "version: '3'\n",
    "services:\n",
    "  api:\n",
    "    build: .\n",
    "    ports:\n",
    "      - \"5000:80\"\n",
    "    restart: always\n",
    "    volumes:\n",
    "      - ./app:/app\n",
    "```\n",
    "-----\n",
    "\n",
    "* Create a folder in the `webapi` folder a new folder with the name `app`\n",
    "* We will build a web API with `Flask` (http://flask.pocoo.org/) . Create a `requirements.txt` file in the `app` folder. Here we can specify all python `pip` packages that we need:\n",
    "\n",
    "-----\n",
    "```bash\n",
    "Flask\n",
    "```\n",
    "-----\n",
    "\n",
    "* Create the `app.py` file in the `app` folder:\n",
    "\n",
    "-----\n",
    "```python\n",
    "from flask import Flask\n",
    "from flask import request, jsonify\n",
    "\n",
    "app = Flask(__name__)\n",
    "\n",
    "courses = [\n",
    "    {'id': 0,\n",
    "     'title': 'Data Science',\n",
    "     'professor': 'Markus Löcher',\n",
    "     'semester': '1'},\n",
    "    {'id': 1,\n",
    "     'title': 'Data Warehousing',\n",
    "     'professor': 'Roland M. Mueller',\n",
    "     'semester': '1'},\n",
    "    {'id': 2,\n",
    "     'title': 'Business Process Management',\n",
    "     'professor': 'Frank Habermann',\n",
    "     'semester': '1'},\n",
    "    {'id': 3,\n",
    "     'title': 'Stratigic Issues of IT',\n",
    "     'professor': 'Sven Pohland',\n",
    "     'semester': '1'},\n",
    "    {'id': 4,\n",
    "     'title': 'Text, Web and Social Media Analytics Lab',\n",
    "     'professor': 'Markus Löcher',\n",
    "     'semester': '2'},\n",
    "    {'id': 5,\n",
    "     'title': 'Enterprise Architectures for Big Data',\n",
    "     'professor': 'Roland M. Mueller',\n",
    "     'semester': '2'},\n",
    "    {'id': 6,\n",
    "     'title': 'Business Process Integration Lab',\n",
    "     'professor': 'Frank Habermann',\n",
    "     'semester': '2'},\n",
    "    {'id': 7,\n",
    "     'title': 'IT-Security and Privacy',\n",
    "     'professor': 'Dennis Uckel',\n",
    "     'semester': '2'},\n",
    "    {'id': 8,\n",
    "     'title': 'Research Methods',\n",
    "     'professor': 'Marcus Birkenkrahe',\n",
    "     'semester': '2'},\n",
    "]\n",
    "\n",
    "@app.route('/api/v1/courses/all', methods=['GET'])\n",
    "def api_all():\n",
    "    return jsonify(courses)\n",
    "\n",
    "@app.route('/api/v1/courses', methods=['GET'])\n",
    "def api_id():\n",
    "    # Check if an ID was provided as part of the URL.\n",
    "    # If ID is provided, assign it to a variable.\n",
    "    # If no ID is provided, display an error in the browser.\n",
    "    if 'id' in request.args:\n",
    "        id = int(request.args['id'])\n",
    "    else:\n",
    "        return \"Error: No id field provided. Please specify an id.\"\n",
    "\n",
    "    # Create an empty list for our results\n",
    "    results = []\n",
    "\n",
    "    # Loop through the data and match results that fit the requested ID.\n",
    "    # IDs are unique, but other fields might return many results\n",
    "    for course in courses:\n",
    "        if course['id'] == id:\n",
    "            results.append(course)\n",
    "\n",
    "    # Use the jsonify function from Flask to convert our list of\n",
    "    # Python dictionaries to the JSON format.\n",
    "    return jsonify(results)\n",
    "\n",
    "if __name__ == \"__main__\":\n",
    "    app.run(host=\"0.0.0.0\", port=80, debug=True)\n",
    "```\n",
    "-----\n",
    "* Open http://localhost:5000/api/v1/courses/all in a browser\n",
    "* Open http://localhost:5000/api/v1/courses?id=5 in a browser\n"
   ]
  },
  {
   "cell_type": "markdown",
   "metadata": {},
   "source": [
    "* Use your own API here in the Jupyter Notebook with Python and print all names of all courses "
   ]
  },
  {
   "cell_type": "code",
   "execution_count": 163,
   "metadata": {
    "collapsed": true
   },
   "outputs": [
    {
     "name": "stdout",
     "output_type": "stream",
     "text": [
      "[{'id': 0, 'professor': 'Markus Löcher', 'semester': '1', 'title': 'Data Science'}, {'id': 1, 'professor': 'Roland M. Mueller', 'semester': '1', 'title': 'Data Warehousing'}, {'id': 2, 'professor': 'Frank Habermann', 'semester': '1', 'title': 'Business Process Management'}, {'id': 3, 'professor': 'Sven Pohland', 'semester': '1', 'title': 'Stratigic Issues of IT'}, {'id': 4, 'professor': 'Markus Löcher', 'semester': '2', 'title': 'Text, Web and Social Media Analytics Lab'}, {'id': 5, 'professor': 'Roland M. Mueller', 'semester': '2', 'title': 'Enterprise Architectures for Big Data'}, {'id': 6, 'professor': 'Frank Habermann', 'semester': '2', 'title': 'Business Process Integration Lab'}, {'id': 7, 'professor': 'Dennis Uckel', 'semester': '2', 'title': 'IT-Security and Privacy'}, {'id': 8, 'professor': 'Marcus Birkenkrahe', 'semester': '2', 'title': 'Research Methods'}]\n"
     ]
    }
   ],
   "source": [
    "# first have a look at the whole data\n",
    "classes = requests.get('http://localhost:5000/api/v1/courses/all')\n",
    "allclasses = classes.json()\n",
    "print(allclasses)"
   ]
  },
  {
   "cell_type": "code",
   "execution_count": 217,
   "metadata": {},
   "outputs": [
    {
     "name": "stdout",
     "output_type": "stream",
     "text": [
      "[{'id': 0, 'professor': 'Markus Löcher', 'semester': '1', 'title': 'Data Science'}, {'id': 1, 'professor': 'Roland M. Mueller', 'semester': '1', 'title': 'Data Warehousing'}, {'id': 2, 'professor': 'Frank Habermann', 'semester': '1', 'title': 'Business Process Management'}, {'id': 3, 'professor': 'Sven Pohland', 'semester': '1', 'title': 'Stratigic Issues of IT'}, {'id': 4, 'professor': 'Markus Löcher', 'semester': '2', 'title': 'Text, Web and Social Media Analytics Lab'}, {'id': 5, 'professor': 'Roland M. Mueller', 'semester': '2', 'title': 'Enterprise Architectures for Big Data'}, {'id': 6, 'professor': 'Frank Habermann', 'semester': '2', 'title': 'Business Process Integration Lab'}, {'id': 7, 'professor': 'Dennis Uckel', 'semester': '2', 'title': 'IT-Security and Privacy'}, {'id': 8, 'professor': 'Marcus Birkenkrahe', 'semester': '2', 'title': 'Research Methods'}]\n"
     ]
    }
   ],
   "source": [
    "# only names of all courses\n",
    "parameters = {\"id\": (), \"title\": ()}\n",
    "response = requests.get(\"http://localhost:5000/api/v1/courses/all\", params=parameters)\n",
    "name = response.json()\n",
    "print(name)"
   ]
  },
  {
   "cell_type": "code",
   "execution_count": 246,
   "metadata": {},
   "outputs": [
    {
     "data": {
      "text/plain": [
       "['Data Science',\n",
       " 'Data Warehousing',\n",
       " 'Business Process Management',\n",
       " 'Stratigic Issues of IT',\n",
       " 'Text, Web and Social Media Analytics Lab',\n",
       " 'Enterprise Architectures for Big Data',\n",
       " 'Business Process Integration Lab',\n",
       " 'IT-Security and Privacy',\n",
       " 'Research Methods']"
      ]
     },
     "execution_count": 246,
     "metadata": {},
     "output_type": "execute_result"
    }
   ],
   "source": [
    "#print with for loop\n",
    "[value[\"title\"] for value in name]"
   ]
  },
  {
   "cell_type": "markdown",
   "metadata": {},
   "source": [
    "* Add the possibility to find courses based on the semester\n",
    "* Use your API in Python and print all names of all courses in the second semester"
   ]
  },
  {
   "cell_type": "code",
   "execution_count": 257,
   "metadata": {
    "collapsed": true
   },
   "outputs": [
    {
     "data": {
      "text/plain": [
       "['Data Science',\n",
       " 'Data Warehousing',\n",
       " 'Business Process Management',\n",
       " 'Stratigic Issues of IT',\n",
       " 'Text, Web and Social Media Analytics Lab',\n",
       " 'Enterprise Architectures for Big Data',\n",
       " 'Business Process Integration Lab',\n",
       " 'IT-Security and Privacy',\n",
       " 'Research Methods']"
      ]
     },
     "execution_count": 257,
     "metadata": {},
     "output_type": "execute_result"
    }
   ],
   "source": [
    "#response = requests.get(\"http://localhost:5000/api/v1/courses?id=4&semester=2\")\n",
    "response = requests.get(\"http://localhost:5000/api/v1/courses/all\")\n",
    "name_semester = response.json()\n",
    "[value[\"title\"] for value in name_semester]"
   ]
  },
  {
   "cell_type": "markdown",
   "metadata": {},
   "source": [
    "* Add a function that can convert Fahrenheit to Celsius \n",
    "* Call your API and get the Celsius value for 100°F Fahrenheit"
   ]
  },
  {
   "cell_type": "code",
   "execution_count": 254,
   "metadata": {
    "collapsed": true
   },
   "outputs": [],
   "source": [
    "# TODO\n",
    "response = requests.get('localhost:5000/api/v1/converter?degrees=100')"
   ]
  },
  {
   "cell_type": "code",
   "execution_count": null,
   "metadata": {},
   "outputs": [],
   "source": []
  }
 ],
 "metadata": {
  "kernelspec": {
   "display_name": "Python 3",
   "language": "python",
   "name": "python3"
  },
  "language_info": {
   "codemirror_mode": {
    "name": "ipython",
    "version": 3
   },
   "file_extension": ".py",
   "mimetype": "text/x-python",
   "name": "python",
   "nbconvert_exporter": "python",
   "pygments_lexer": "ipython3",
   "version": "3.7.1"
  },
  "varInspector": {
   "cols": {
    "lenName": 16,
    "lenType": 16,
    "lenVar": 40
   },
   "kernels_config": {
    "python": {
     "delete_cmd_postfix": "",
     "delete_cmd_prefix": "del ",
     "library": "var_list.py",
     "varRefreshCmd": "print(var_dic_list())"
    },
    "r": {
     "delete_cmd_postfix": ") ",
     "delete_cmd_prefix": "rm(",
     "library": "var_list.r",
     "varRefreshCmd": "cat(var_dic_list()) "
    }
   },
   "types_to_exclude": [
    "module",
    "function",
    "builtin_function_or_method",
    "instance",
    "_Feature"
   ],
   "window_display": false
  }
 },
 "nbformat": 4,
 "nbformat_minor": 2
}
