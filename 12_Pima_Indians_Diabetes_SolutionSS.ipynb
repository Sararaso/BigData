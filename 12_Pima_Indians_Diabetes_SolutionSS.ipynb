{
  "nbformat": 4,
  "nbformat_minor": 0,
  "metadata": {
    "colab": {
      "name": "12_Pima_Indians_Diabetes_SolutionSS.ipynb",
      "version": "0.3.2",
      "provenance": [],
      "collapsed_sections": [],
      "toc_visible": true
    },
    "language_info": {
      "codemirror_mode": {
        "name": "ipython",
        "version": 3
      },
      "file_extension": ".py",
      "mimetype": "text/x-python",
      "name": "python",
      "nbconvert_exporter": "python",
      "pygments_lexer": "ipython3",
      "version": "3.7.1"
    },
    "kernelspec": {
      "display_name": "Python 3",
      "language": "python",
      "name": "python3"
    }
  },
  "cells": [
    {
      "cell_type": "markdown",
      "metadata": {
        "id": "hxtRPAVkZ5Po",
        "colab_type": "text"
      },
      "source": [
        "# Data \n",
        "\n",
        "The Pima Indians dataset is about the prediction of diabetes . This is a small dataset available from the UCI Machine Learning Repository. https://archive.ics.uci.edu/ml/datasets/Pima+Indians+Diabetes\n",
        "\n",
        "**Attribute Information:**\n",
        "\n",
        "1. Number of times pregnant\n",
        "2. Plasma glucose concentration a 2 hours in an oral glucose tolerance test\n",
        "3. Diastolic blood pressure (mm Hg)\n",
        "4. Triceps skin fold thickness (mm)\n",
        "5. 2-Hour serum insulin (mu U/ml)\n",
        "6. Body mass index (weight in kg/(height in m)^2)\n",
        "7. Diabetes pedigree function\n",
        "8. Age (years)\n",
        "9. Class variable (0 or 1) (diabetes mellitus)"
      ]
    },
    {
      "cell_type": "code",
      "metadata": {
        "id": "SDxLkTlYZ5Pq",
        "colab_type": "code",
        "colab": {}
      },
      "source": [
        "# Download the data\n",
        "#!wget -O pima-indians-diabetes.csv https://gist.githubusercontent.com/ktisha/c21e73a1bd1700294ef790c56c8aec1f/raw/819b69b5736821ccee93d05b51de0510bea00294/pima-indians-diabetes.csv"
      ],
      "execution_count": 0,
      "outputs": []
    },
    {
      "cell_type": "code",
      "metadata": {
        "id": "QaM1uublZ5Pu",
        "colab_type": "code",
        "colab": {}
      },
      "source": [
        "#!curl https://gist.githubusercontent.com/ktisha/c21e73a1bd1700294ef790c56c8aec1f/raw/819b69b5736821ccee93d05b51de0510bea00294/pima-indians-diabetes.csv"
      ],
      "execution_count": 0,
      "outputs": []
    },
    {
      "cell_type": "code",
      "metadata": {
        "collapsed": true,
        "id": "0lztVEJ_Z5Py",
        "colab_type": "code",
        "colab": {
          "base_uri": "https://localhost:8080/",
          "height": 68
        },
        "outputId": "45fce72d-29be-4d5e-9d83-ca02050367d2"
      },
      "source": [
        "# check if the data is downloaded\n",
        "%ls -l"
      ],
      "execution_count": 3,
      "outputs": [
        {
          "output_type": "stream",
          "text": [
            "total 28\n",
            "-rw-r--r-- 1 root root 23628 Jun  5 06:51 pima-indians-diabetes.csv\n",
            "drwxr-xr-x 1 root root  4096 May 31 16:17 \u001b[0m\u001b[01;34msample_data\u001b[0m/\n"
          ],
          "name": "stdout"
        }
      ]
    },
    {
      "cell_type": "code",
      "metadata": {
        "id": "nrSIV5_UZ5P4",
        "colab_type": "code",
        "colab": {
          "base_uri": "https://localhost:8080/",
          "height": 34
        },
        "outputId": "5d512868-4f2e-4caa-c9fc-e6e99d8061c0"
      },
      "source": [
        "from sklearn.model_selection import train_test_split\n",
        "from keras.models import Sequential\n",
        "from keras.layers import Dense\n",
        "import matplotlib.pyplot as plt\n",
        "from matplotlib.ticker import MaxNLocator\n",
        "import numpy as np"
      ],
      "execution_count": 4,
      "outputs": [
        {
          "output_type": "stream",
          "text": [
            "Using TensorFlow backend.\n"
          ],
          "name": "stderr"
        }
      ]
    },
    {
      "cell_type": "code",
      "metadata": {
        "id": "lUK4VW1QZ5P7",
        "colab_type": "code",
        "colab": {}
      },
      "source": [
        "# fix random seed for reproducibility\n",
        "seed = 7\n",
        "np.random.seed(seed)"
      ],
      "execution_count": 0,
      "outputs": []
    },
    {
      "cell_type": "code",
      "metadata": {
        "id": "g0zGhOpHZ5P9",
        "colab_type": "code",
        "colab": {}
      },
      "source": [
        "# load pima indians dataset\n",
        "dataset = np.loadtxt(\"pima-indians-diabetes.csv\", delimiter=\",\")"
      ],
      "execution_count": 0,
      "outputs": []
    },
    {
      "cell_type": "code",
      "metadata": {
        "id": "KmjrGhSsm3mY",
        "colab_type": "code",
        "colab": {
          "base_uri": "https://localhost:8080/",
          "height": 34
        },
        "outputId": "83dcb396-15c2-43d1-d5a2-ab00a8665980"
      },
      "source": [
        "dataset.shape"
      ],
      "execution_count": 7,
      "outputs": [
        {
          "output_type": "execute_result",
          "data": {
            "text/plain": [
              "(768, 9)"
            ]
          },
          "metadata": {
            "tags": []
          },
          "execution_count": 7
        }
      ]
    },
    {
      "cell_type": "code",
      "metadata": {
        "id": "dBMIJdZLZ5QE",
        "colab_type": "code",
        "colab": {}
      },
      "source": [
        "# split dataset into input (X) and output (Y) variables\n",
        "# output is the last column\n",
        "X = dataset[:,0:8]\n",
        "y = dataset[:,8]"
      ],
      "execution_count": 0,
      "outputs": []
    },
    {
      "cell_type": "code",
      "metadata": {
        "collapsed": true,
        "id": "24uQ6MHJZ5QG",
        "colab_type": "code",
        "colab": {
          "base_uri": "https://localhost:8080/",
          "height": 34
        },
        "outputId": "514bb732-c87a-4d33-a72d-10a563d55ce8"
      },
      "source": [
        "# print the shape of x\n",
        "#\n",
        "X.shape"
      ],
      "execution_count": 9,
      "outputs": [
        {
          "output_type": "execute_result",
          "data": {
            "text/plain": [
              "(768, 8)"
            ]
          },
          "metadata": {
            "tags": []
          },
          "execution_count": 9
        }
      ]
    },
    {
      "cell_type": "code",
      "metadata": {
        "collapsed": true,
        "id": "XHiTzXdeZ5QK",
        "colab_type": "code",
        "colab": {
          "base_uri": "https://localhost:8080/",
          "height": 34
        },
        "outputId": "83bf534b-554a-4fa7-85a6-c030f8eb102a"
      },
      "source": [
        "# save to number of input dimensions in input_dim\n",
        "input_dim = len(X.shape)\n",
        "input_dim"
      ],
      "execution_count": 10,
      "outputs": [
        {
          "output_type": "execute_result",
          "data": {
            "text/plain": [
              "2"
            ]
          },
          "metadata": {
            "tags": []
          },
          "execution_count": 10
        }
      ]
    },
    {
      "cell_type": "code",
      "metadata": {
        "collapsed": true,
        "id": "sM4wmguxZ5QN",
        "colab_type": "code",
        "colab": {
          "base_uri": "https://localhost:8080/",
          "height": 34
        },
        "outputId": "849740ef-bc13-433a-a626-34519abf284d"
      },
      "source": [
        "# shape of y\n",
        "y.shape"
      ],
      "execution_count": 11,
      "outputs": [
        {
          "output_type": "execute_result",
          "data": {
            "text/plain": [
              "(768,)"
            ]
          },
          "metadata": {
            "tags": []
          },
          "execution_count": 11
        }
      ]
    },
    {
      "cell_type": "code",
      "metadata": {
        "collapsed": true,
        "id": "tE6NO4LYZ5QR",
        "colab_type": "code",
        "colab": {}
      },
      "source": [
        "# Create training and test sets\n",
        "# Test size should be 15%\n",
        "# The test and train set should be stratified\n",
        "# use a random state (for reproducability) of 42\n",
        "# TODO\n",
        "X_train, X_test, y_train, y_test = train_test_split(X,y, test_size=0.15, stratify=y, random_state=42)"
      ],
      "execution_count": 0,
      "outputs": []
    },
    {
      "cell_type": "code",
      "metadata": {
        "id": "00sTZc8GZ5QZ",
        "colab_type": "code",
        "colab": {
          "base_uri": "https://localhost:8080/",
          "height": 34
        },
        "outputId": "de257e3f-d837-4380-faa1-94b02d92c86e"
      },
      "source": [
        "# shape of X_test\n",
        "# TODO\n",
        "X_test.shape"
      ],
      "execution_count": 13,
      "outputs": [
        {
          "output_type": "execute_result",
          "data": {
            "text/plain": [
              "(116, 8)"
            ]
          },
          "metadata": {
            "tags": []
          },
          "execution_count": 13
        }
      ]
    },
    {
      "cell_type": "markdown",
      "metadata": {
        "id": "YFdD-u4tZ5Qc",
        "colab_type": "text"
      },
      "source": [
        "# Model"
      ]
    },
    {
      "cell_type": "code",
      "metadata": {
        "id": "w-easCcbZ5Qd",
        "colab_type": "code",
        "colab": {}
      },
      "source": [
        "# 1. Create Sequential model\n",
        "# 2. + 3. Add two hidden dense layers with 12 and 8 nodes. Both should have Relu activations \n",
        "# 4. Add a final output layer\n",
        "# Think about how many nodes the final output layer should have and what activation function is appropiate\n",
        "# TODO\n",
        "model = Sequential()\n",
        "model.add(Dense(12, activation='relu'))\n",
        "model.add(Dense(8, activation='relu'))\n",
        "model.add(Dense(1, activation='sigmoid'))"
      ],
      "execution_count": 0,
      "outputs": []
    },
    {
      "cell_type": "code",
      "metadata": {
        "id": "EbFB-igFZ5Qg",
        "colab_type": "code",
        "colab": {
          "base_uri": "https://localhost:8080/",
          "height": 88
        },
        "outputId": "bc48f8f9-1cef-4f42-b8b1-430254daa686"
      },
      "source": [
        "# Compile the model\n",
        "# Think about what loss function is appropiate\n",
        "# Use as the optimizer Adam\n",
        "# Track as an additional metric Accuracy\n",
        "# TODO\n",
        "model.compile(optimizer='adam', loss='binary_crossentropy', metrics=['accuracy'])"
      ],
      "execution_count": 15,
      "outputs": [
        {
          "output_type": "stream",
          "text": [
            "WARNING:tensorflow:From /usr/local/lib/python3.6/dist-packages/tensorflow/python/framework/op_def_library.py:263: colocate_with (from tensorflow.python.framework.ops) is deprecated and will be removed in a future version.\n",
            "Instructions for updating:\n",
            "Colocations handled automatically by placer.\n"
          ],
          "name": "stdout"
        }
      ]
    },
    {
      "cell_type": "code",
      "metadata": {
        "id": "0h5BQ_0xZ5Qj",
        "colab_type": "code",
        "colab": {
          "base_uri": "https://localhost:8080/",
          "height": 10305
        },
        "outputId": "29817dc9-99a5-48fe-d089-ed611e70ed30"
      },
      "source": [
        "# Fit the model\n",
        "#\n",
        "# Use 15% for Validation\n",
        "# Train for 300 epochs\n",
        "# User batch size = 10\n",
        "# Save the model fitting into the variable history\n",
        "# TODO\n",
        "history = model.fit(X, y, validation_split=0.15, epochs=300, batch_size=10)"
      ],
      "execution_count": 16,
      "outputs": [
        {
          "output_type": "stream",
          "text": [
            "WARNING:tensorflow:From /usr/local/lib/python3.6/dist-packages/tensorflow/python/ops/math_ops.py:3066: to_int32 (from tensorflow.python.ops.math_ops) is deprecated and will be removed in a future version.\n",
            "Instructions for updating:\n",
            "Use tf.cast instead.\n",
            "Train on 652 samples, validate on 116 samples\n",
            "Epoch 1/300\n",
            "652/652 [==============================] - 1s 1ms/step - loss: 4.0396 - acc: 0.6549 - val_loss: 2.3912 - val_acc: 0.5259\n",
            "Epoch 2/300\n",
            "652/652 [==============================] - 0s 124us/step - loss: 1.1686 - acc: 0.5445 - val_loss: 0.8881 - val_acc: 0.5345\n",
            "Epoch 3/300\n",
            "652/652 [==============================] - 0s 126us/step - loss: 0.7982 - acc: 0.6273 - val_loss: 0.9685 - val_acc: 0.5862\n",
            "Epoch 4/300\n",
            "652/652 [==============================] - 0s 124us/step - loss: 0.7193 - acc: 0.6472 - val_loss: 0.9219 - val_acc: 0.6034\n",
            "Epoch 5/300\n",
            "652/652 [==============================] - 0s 122us/step - loss: 0.7077 - acc: 0.6580 - val_loss: 0.7225 - val_acc: 0.6121\n",
            "Epoch 6/300\n",
            "652/652 [==============================] - 0s 125us/step - loss: 0.6784 - acc: 0.6733 - val_loss: 0.7127 - val_acc: 0.6207\n",
            "Epoch 7/300\n",
            "652/652 [==============================] - 0s 131us/step - loss: 0.6685 - acc: 0.6810 - val_loss: 0.7119 - val_acc: 0.6466\n",
            "Epoch 8/300\n",
            "652/652 [==============================] - 0s 124us/step - loss: 0.6522 - acc: 0.7055 - val_loss: 0.6893 - val_acc: 0.6810\n",
            "Epoch 9/300\n",
            "652/652 [==============================] - 0s 120us/step - loss: 0.6133 - acc: 0.7117 - val_loss: 0.7192 - val_acc: 0.5776\n",
            "Epoch 10/300\n",
            "652/652 [==============================] - 0s 122us/step - loss: 0.6336 - acc: 0.6856 - val_loss: 0.6889 - val_acc: 0.6466\n",
            "Epoch 11/300\n",
            "652/652 [==============================] - 0s 119us/step - loss: 0.6148 - acc: 0.7040 - val_loss: 0.7133 - val_acc: 0.6379\n",
            "Epoch 12/300\n",
            "652/652 [==============================] - 0s 116us/step - loss: 0.6189 - acc: 0.7147 - val_loss: 0.7758 - val_acc: 0.6897\n",
            "Epoch 13/300\n",
            "652/652 [==============================] - 0s 123us/step - loss: 0.5964 - acc: 0.7117 - val_loss: 0.6830 - val_acc: 0.6466\n",
            "Epoch 14/300\n",
            "652/652 [==============================] - 0s 123us/step - loss: 0.5965 - acc: 0.7132 - val_loss: 0.6533 - val_acc: 0.6897\n",
            "Epoch 15/300\n",
            "652/652 [==============================] - 0s 117us/step - loss: 0.6143 - acc: 0.6917 - val_loss: 0.7215 - val_acc: 0.6466\n",
            "Epoch 16/300\n",
            "652/652 [==============================] - 0s 126us/step - loss: 0.6015 - acc: 0.7040 - val_loss: 0.6535 - val_acc: 0.6293\n",
            "Epoch 17/300\n",
            "652/652 [==============================] - 0s 124us/step - loss: 0.5880 - acc: 0.7193 - val_loss: 0.6521 - val_acc: 0.6293\n",
            "Epoch 18/300\n",
            "652/652 [==============================] - 0s 127us/step - loss: 0.6122 - acc: 0.6902 - val_loss: 0.8131 - val_acc: 0.6552\n",
            "Epoch 19/300\n",
            "652/652 [==============================] - 0s 119us/step - loss: 0.5861 - acc: 0.7163 - val_loss: 0.6740 - val_acc: 0.5776\n",
            "Epoch 20/300\n",
            "652/652 [==============================] - 0s 114us/step - loss: 0.6049 - acc: 0.6994 - val_loss: 0.6913 - val_acc: 0.6121\n",
            "Epoch 21/300\n",
            "652/652 [==============================] - 0s 115us/step - loss: 0.5622 - acc: 0.7270 - val_loss: 0.6520 - val_acc: 0.7069\n",
            "Epoch 22/300\n",
            "652/652 [==============================] - 0s 122us/step - loss: 0.5607 - acc: 0.7224 - val_loss: 0.6995 - val_acc: 0.6466\n",
            "Epoch 23/300\n",
            "652/652 [==============================] - 0s 117us/step - loss: 0.5579 - acc: 0.7316 - val_loss: 0.6687 - val_acc: 0.6897\n",
            "Epoch 24/300\n",
            "652/652 [==============================] - 0s 121us/step - loss: 0.5595 - acc: 0.7086 - val_loss: 0.6656 - val_acc: 0.6379\n",
            "Epoch 25/300\n",
            "652/652 [==============================] - 0s 116us/step - loss: 0.5725 - acc: 0.7193 - val_loss: 0.6508 - val_acc: 0.6638\n",
            "Epoch 26/300\n",
            "652/652 [==============================] - 0s 118us/step - loss: 0.5721 - acc: 0.7040 - val_loss: 0.6980 - val_acc: 0.6724\n",
            "Epoch 27/300\n",
            "652/652 [==============================] - 0s 121us/step - loss: 0.5596 - acc: 0.7362 - val_loss: 0.6376 - val_acc: 0.6724\n",
            "Epoch 28/300\n",
            "652/652 [==============================] - 0s 118us/step - loss: 0.5539 - acc: 0.7071 - val_loss: 0.6284 - val_acc: 0.6810\n",
            "Epoch 29/300\n",
            "652/652 [==============================] - 0s 117us/step - loss: 0.5487 - acc: 0.7439 - val_loss: 0.6742 - val_acc: 0.6552\n",
            "Epoch 30/300\n",
            "652/652 [==============================] - 0s 118us/step - loss: 0.5492 - acc: 0.7239 - val_loss: 0.6249 - val_acc: 0.7328\n",
            "Epoch 31/300\n",
            "652/652 [==============================] - 0s 120us/step - loss: 0.5403 - acc: 0.7239 - val_loss: 0.6428 - val_acc: 0.6724\n",
            "Epoch 32/300\n",
            "652/652 [==============================] - 0s 125us/step - loss: 0.5527 - acc: 0.7377 - val_loss: 0.7938 - val_acc: 0.6121\n",
            "Epoch 33/300\n",
            "652/652 [==============================] - 0s 120us/step - loss: 0.5542 - acc: 0.7285 - val_loss: 0.6436 - val_acc: 0.6552\n",
            "Epoch 34/300\n",
            "652/652 [==============================] - 0s 117us/step - loss: 0.5488 - acc: 0.7209 - val_loss: 0.6400 - val_acc: 0.6724\n",
            "Epoch 35/300\n",
            "652/652 [==============================] - 0s 124us/step - loss: 0.5508 - acc: 0.7377 - val_loss: 0.6634 - val_acc: 0.6552\n",
            "Epoch 36/300\n",
            "652/652 [==============================] - 0s 118us/step - loss: 0.5438 - acc: 0.7408 - val_loss: 0.6364 - val_acc: 0.6810\n",
            "Epoch 37/300\n",
            "652/652 [==============================] - 0s 116us/step - loss: 0.5646 - acc: 0.7209 - val_loss: 0.6067 - val_acc: 0.6983\n",
            "Epoch 38/300\n",
            "652/652 [==============================] - 0s 117us/step - loss: 0.5599 - acc: 0.7270 - val_loss: 0.6055 - val_acc: 0.7069\n",
            "Epoch 39/300\n",
            "652/652 [==============================] - 0s 119us/step - loss: 0.5375 - acc: 0.7408 - val_loss: 0.6065 - val_acc: 0.7155\n",
            "Epoch 40/300\n",
            "652/652 [==============================] - 0s 122us/step - loss: 0.5416 - acc: 0.7270 - val_loss: 0.6054 - val_acc: 0.6897\n",
            "Epoch 41/300\n",
            "652/652 [==============================] - 0s 121us/step - loss: 0.5276 - acc: 0.7331 - val_loss: 0.6198 - val_acc: 0.6638\n",
            "Epoch 42/300\n",
            "652/652 [==============================] - 0s 117us/step - loss: 0.5197 - acc: 0.7561 - val_loss: 0.5919 - val_acc: 0.7069\n",
            "Epoch 43/300\n",
            "652/652 [==============================] - 0s 120us/step - loss: 0.5373 - acc: 0.7239 - val_loss: 0.5941 - val_acc: 0.7241\n",
            "Epoch 44/300\n",
            "652/652 [==============================] - 0s 119us/step - loss: 0.5332 - acc: 0.7377 - val_loss: 0.5847 - val_acc: 0.7155\n",
            "Epoch 45/300\n",
            "652/652 [==============================] - 0s 114us/step - loss: 0.5503 - acc: 0.7055 - val_loss: 0.5956 - val_acc: 0.7241\n",
            "Epoch 46/300\n",
            "652/652 [==============================] - 0s 119us/step - loss: 0.5324 - acc: 0.7423 - val_loss: 0.7131 - val_acc: 0.6724\n",
            "Epoch 47/300\n",
            "652/652 [==============================] - 0s 121us/step - loss: 0.5277 - acc: 0.7423 - val_loss: 0.6915 - val_acc: 0.6552\n",
            "Epoch 48/300\n",
            "652/652 [==============================] - 0s 116us/step - loss: 0.5417 - acc: 0.7285 - val_loss: 0.6299 - val_acc: 0.6897\n",
            "Epoch 49/300\n",
            "652/652 [==============================] - 0s 113us/step - loss: 0.5452 - acc: 0.7117 - val_loss: 0.5853 - val_acc: 0.7241\n",
            "Epoch 50/300\n",
            "652/652 [==============================] - 0s 121us/step - loss: 0.5384 - acc: 0.7469 - val_loss: 0.6192 - val_acc: 0.6983\n",
            "Epoch 51/300\n",
            "652/652 [==============================] - 0s 119us/step - loss: 0.5282 - acc: 0.7454 - val_loss: 0.6277 - val_acc: 0.6724\n",
            "Epoch 52/300\n",
            "652/652 [==============================] - 0s 117us/step - loss: 0.5297 - acc: 0.7316 - val_loss: 0.6185 - val_acc: 0.7155\n",
            "Epoch 53/300\n",
            "652/652 [==============================] - 0s 124us/step - loss: 0.5188 - acc: 0.7377 - val_loss: 0.6144 - val_acc: 0.7155\n",
            "Epoch 54/300\n",
            "652/652 [==============================] - 0s 113us/step - loss: 0.5243 - acc: 0.7485 - val_loss: 0.6104 - val_acc: 0.6897\n",
            "Epoch 55/300\n",
            "652/652 [==============================] - 0s 124us/step - loss: 0.5219 - acc: 0.7362 - val_loss: 0.5875 - val_acc: 0.7241\n",
            "Epoch 56/300\n",
            "652/652 [==============================] - 0s 122us/step - loss: 0.5205 - acc: 0.7331 - val_loss: 0.6741 - val_acc: 0.6724\n",
            "Epoch 57/300\n",
            "652/652 [==============================] - 0s 118us/step - loss: 0.5262 - acc: 0.7377 - val_loss: 0.5650 - val_acc: 0.7328\n",
            "Epoch 58/300\n",
            "652/652 [==============================] - 0s 135us/step - loss: 0.5393 - acc: 0.7163 - val_loss: 0.7327 - val_acc: 0.6810\n",
            "Epoch 59/300\n",
            "652/652 [==============================] - 0s 115us/step - loss: 0.5278 - acc: 0.7377 - val_loss: 0.6454 - val_acc: 0.6810\n",
            "Epoch 60/300\n",
            "652/652 [==============================] - 0s 115us/step - loss: 0.5368 - acc: 0.7301 - val_loss: 0.5936 - val_acc: 0.6724\n",
            "Epoch 61/300\n",
            "652/652 [==============================] - 0s 118us/step - loss: 0.5220 - acc: 0.7301 - val_loss: 0.5733 - val_acc: 0.7586\n",
            "Epoch 62/300\n",
            "652/652 [==============================] - 0s 118us/step - loss: 0.5176 - acc: 0.7515 - val_loss: 0.5658 - val_acc: 0.7586\n",
            "Epoch 63/300\n",
            "652/652 [==============================] - 0s 125us/step - loss: 0.5273 - acc: 0.7393 - val_loss: 0.5704 - val_acc: 0.7586\n",
            "Epoch 64/300\n",
            "652/652 [==============================] - 0s 119us/step - loss: 0.5282 - acc: 0.7255 - val_loss: 0.6167 - val_acc: 0.6810\n",
            "Epoch 65/300\n",
            "652/652 [==============================] - 0s 123us/step - loss: 0.5085 - acc: 0.7469 - val_loss: 0.5709 - val_acc: 0.7500\n",
            "Epoch 66/300\n",
            "652/652 [==============================] - 0s 117us/step - loss: 0.5127 - acc: 0.7408 - val_loss: 0.6148 - val_acc: 0.6983\n",
            "Epoch 67/300\n",
            "652/652 [==============================] - 0s 120us/step - loss: 0.5126 - acc: 0.7546 - val_loss: 0.5989 - val_acc: 0.7069\n",
            "Epoch 68/300\n",
            "652/652 [==============================] - 0s 121us/step - loss: 0.5192 - acc: 0.7423 - val_loss: 0.5674 - val_acc: 0.7414\n",
            "Epoch 69/300\n",
            "652/652 [==============================] - 0s 119us/step - loss: 0.5100 - acc: 0.7500 - val_loss: 0.6922 - val_acc: 0.6466\n",
            "Epoch 70/300\n",
            "652/652 [==============================] - 0s 115us/step - loss: 0.5306 - acc: 0.7393 - val_loss: 0.5637 - val_acc: 0.7414\n",
            "Epoch 71/300\n",
            "652/652 [==============================] - 0s 117us/step - loss: 0.4985 - acc: 0.7515 - val_loss: 0.5853 - val_acc: 0.7241\n",
            "Epoch 72/300\n",
            "652/652 [==============================] - 0s 116us/step - loss: 0.5062 - acc: 0.7561 - val_loss: 0.5668 - val_acc: 0.7500\n",
            "Epoch 73/300\n",
            "652/652 [==============================] - 0s 127us/step - loss: 0.5126 - acc: 0.7500 - val_loss: 0.5545 - val_acc: 0.7414\n",
            "Epoch 74/300\n",
            "652/652 [==============================] - 0s 119us/step - loss: 0.5174 - acc: 0.7469 - val_loss: 0.5600 - val_acc: 0.7759\n",
            "Epoch 75/300\n",
            "652/652 [==============================] - 0s 121us/step - loss: 0.5390 - acc: 0.7500 - val_loss: 0.5698 - val_acc: 0.7672\n",
            "Epoch 76/300\n",
            "652/652 [==============================] - 0s 144us/step - loss: 0.5198 - acc: 0.7423 - val_loss: 0.5788 - val_acc: 0.7155\n",
            "Epoch 77/300\n",
            "652/652 [==============================] - 0s 128us/step - loss: 0.4989 - acc: 0.7592 - val_loss: 0.5601 - val_acc: 0.7672\n",
            "Epoch 78/300\n",
            "652/652 [==============================] - 0s 122us/step - loss: 0.5070 - acc: 0.7485 - val_loss: 0.5566 - val_acc: 0.7414\n",
            "Epoch 79/300\n",
            "652/652 [==============================] - 0s 120us/step - loss: 0.5043 - acc: 0.7423 - val_loss: 0.6066 - val_acc: 0.7069\n",
            "Epoch 80/300\n",
            "652/652 [==============================] - 0s 122us/step - loss: 0.4910 - acc: 0.7561 - val_loss: 0.5804 - val_acc: 0.7155\n",
            "Epoch 81/300\n",
            "652/652 [==============================] - 0s 129us/step - loss: 0.5114 - acc: 0.7500 - val_loss: 0.5792 - val_acc: 0.7155\n",
            "Epoch 82/300\n",
            "652/652 [==============================] - 0s 118us/step - loss: 0.5173 - acc: 0.7561 - val_loss: 0.5961 - val_acc: 0.6983\n",
            "Epoch 83/300\n",
            "652/652 [==============================] - 0s 121us/step - loss: 0.4937 - acc: 0.7577 - val_loss: 0.6085 - val_acc: 0.6897\n",
            "Epoch 84/300\n",
            "652/652 [==============================] - 0s 118us/step - loss: 0.4924 - acc: 0.7807 - val_loss: 0.5912 - val_acc: 0.7328\n",
            "Epoch 85/300\n",
            "652/652 [==============================] - 0s 120us/step - loss: 0.4994 - acc: 0.7531 - val_loss: 0.5809 - val_acc: 0.7586\n",
            "Epoch 86/300\n",
            "652/652 [==============================] - 0s 119us/step - loss: 0.5053 - acc: 0.7485 - val_loss: 0.6628 - val_acc: 0.6379\n",
            "Epoch 87/300\n",
            "652/652 [==============================] - 0s 133us/step - loss: 0.5247 - acc: 0.7423 - val_loss: 0.5488 - val_acc: 0.7672\n",
            "Epoch 88/300\n",
            "652/652 [==============================] - 0s 120us/step - loss: 0.5114 - acc: 0.7577 - val_loss: 0.5498 - val_acc: 0.7586\n",
            "Epoch 89/300\n",
            "652/652 [==============================] - 0s 116us/step - loss: 0.4907 - acc: 0.7684 - val_loss: 0.5478 - val_acc: 0.7672\n",
            "Epoch 90/300\n",
            "652/652 [==============================] - 0s 127us/step - loss: 0.5136 - acc: 0.7592 - val_loss: 0.5561 - val_acc: 0.8017\n",
            "Epoch 91/300\n",
            "652/652 [==============================] - 0s 119us/step - loss: 0.4951 - acc: 0.7531 - val_loss: 0.5441 - val_acc: 0.7759\n",
            "Epoch 92/300\n",
            "652/652 [==============================] - 0s 121us/step - loss: 0.5031 - acc: 0.7377 - val_loss: 0.5687 - val_acc: 0.7155\n",
            "Epoch 93/300\n",
            "652/652 [==============================] - 0s 119us/step - loss: 0.5095 - acc: 0.7531 - val_loss: 0.5659 - val_acc: 0.7845\n",
            "Epoch 94/300\n",
            "652/652 [==============================] - 0s 118us/step - loss: 0.4971 - acc: 0.7454 - val_loss: 0.5852 - val_acc: 0.6983\n",
            "Epoch 95/300\n",
            "652/652 [==============================] - 0s 125us/step - loss: 0.4947 - acc: 0.7592 - val_loss: 0.5889 - val_acc: 0.7069\n",
            "Epoch 96/300\n",
            "652/652 [==============================] - 0s 127us/step - loss: 0.5062 - acc: 0.7592 - val_loss: 0.5388 - val_acc: 0.7672\n",
            "Epoch 97/300\n",
            "652/652 [==============================] - 0s 113us/step - loss: 0.4960 - acc: 0.7715 - val_loss: 0.5637 - val_acc: 0.7500\n",
            "Epoch 98/300\n",
            "652/652 [==============================] - 0s 118us/step - loss: 0.4973 - acc: 0.7623 - val_loss: 0.5858 - val_acc: 0.7414\n",
            "Epoch 99/300\n",
            "652/652 [==============================] - 0s 118us/step - loss: 0.4933 - acc: 0.7546 - val_loss: 0.6148 - val_acc: 0.6810\n",
            "Epoch 100/300\n",
            "652/652 [==============================] - 0s 114us/step - loss: 0.5001 - acc: 0.7638 - val_loss: 0.6390 - val_acc: 0.6897\n",
            "Epoch 101/300\n",
            "652/652 [==============================] - 0s 116us/step - loss: 0.4883 - acc: 0.7623 - val_loss: 0.5482 - val_acc: 0.7586\n",
            "Epoch 102/300\n",
            "652/652 [==============================] - 0s 116us/step - loss: 0.4907 - acc: 0.7669 - val_loss: 0.5552 - val_acc: 0.7328\n",
            "Epoch 103/300\n",
            "652/652 [==============================] - 0s 114us/step - loss: 0.4917 - acc: 0.7577 - val_loss: 0.5837 - val_acc: 0.7069\n",
            "Epoch 104/300\n",
            "652/652 [==============================] - 0s 120us/step - loss: 0.4806 - acc: 0.7623 - val_loss: 0.6299 - val_acc: 0.6466\n",
            "Epoch 105/300\n",
            "652/652 [==============================] - 0s 117us/step - loss: 0.5051 - acc: 0.7546 - val_loss: 0.5860 - val_acc: 0.7155\n",
            "Epoch 106/300\n",
            "652/652 [==============================] - 0s 118us/step - loss: 0.4947 - acc: 0.7684 - val_loss: 0.5490 - val_acc: 0.7845\n",
            "Epoch 107/300\n",
            "652/652 [==============================] - 0s 119us/step - loss: 0.4876 - acc: 0.7653 - val_loss: 0.5375 - val_acc: 0.7586\n",
            "Epoch 108/300\n",
            "652/652 [==============================] - 0s 117us/step - loss: 0.5190 - acc: 0.7469 - val_loss: 0.6554 - val_acc: 0.6724\n",
            "Epoch 109/300\n",
            "652/652 [==============================] - 0s 120us/step - loss: 0.4786 - acc: 0.7699 - val_loss: 0.5781 - val_acc: 0.7069\n",
            "Epoch 110/300\n",
            "652/652 [==============================] - 0s 117us/step - loss: 0.5033 - acc: 0.7546 - val_loss: 0.6426 - val_acc: 0.6724\n",
            "Epoch 111/300\n",
            "652/652 [==============================] - 0s 121us/step - loss: 0.4818 - acc: 0.7577 - val_loss: 0.5454 - val_acc: 0.7414\n",
            "Epoch 112/300\n",
            "652/652 [==============================] - 0s 120us/step - loss: 0.4824 - acc: 0.7546 - val_loss: 0.5591 - val_acc: 0.7328\n",
            "Epoch 113/300\n",
            "652/652 [==============================] - 0s 117us/step - loss: 0.4795 - acc: 0.7807 - val_loss: 0.5724 - val_acc: 0.7155\n",
            "Epoch 114/300\n",
            "652/652 [==============================] - 0s 118us/step - loss: 0.4995 - acc: 0.7454 - val_loss: 0.5747 - val_acc: 0.7414\n",
            "Epoch 115/300\n",
            "652/652 [==============================] - 0s 122us/step - loss: 0.4968 - acc: 0.7500 - val_loss: 0.5536 - val_acc: 0.7500\n",
            "Epoch 116/300\n",
            "652/652 [==============================] - 0s 121us/step - loss: 0.4821 - acc: 0.7607 - val_loss: 0.5465 - val_acc: 0.7931\n",
            "Epoch 117/300\n",
            "652/652 [==============================] - 0s 122us/step - loss: 0.4726 - acc: 0.7699 - val_loss: 0.5705 - val_acc: 0.7155\n",
            "Epoch 118/300\n",
            "652/652 [==============================] - 0s 126us/step - loss: 0.4814 - acc: 0.7607 - val_loss: 0.5495 - val_acc: 0.7155\n",
            "Epoch 119/300\n",
            "652/652 [==============================] - 0s 121us/step - loss: 0.4686 - acc: 0.7791 - val_loss: 0.5406 - val_acc: 0.7672\n",
            "Epoch 120/300\n",
            "652/652 [==============================] - 0s 122us/step - loss: 0.4821 - acc: 0.7669 - val_loss: 0.5392 - val_acc: 0.7672\n",
            "Epoch 121/300\n",
            "652/652 [==============================] - 0s 118us/step - loss: 0.4734 - acc: 0.7761 - val_loss: 0.5574 - val_acc: 0.7586\n",
            "Epoch 122/300\n",
            "652/652 [==============================] - 0s 119us/step - loss: 0.4866 - acc: 0.7531 - val_loss: 0.5443 - val_acc: 0.7586\n",
            "Epoch 123/300\n",
            "652/652 [==============================] - 0s 120us/step - loss: 0.4845 - acc: 0.7761 - val_loss: 0.5548 - val_acc: 0.7586\n",
            "Epoch 124/300\n",
            "652/652 [==============================] - 0s 122us/step - loss: 0.4757 - acc: 0.7669 - val_loss: 0.5864 - val_acc: 0.6897\n",
            "Epoch 125/300\n",
            "652/652 [==============================] - 0s 118us/step - loss: 0.4712 - acc: 0.7669 - val_loss: 0.5635 - val_acc: 0.7241\n",
            "Epoch 126/300\n",
            "652/652 [==============================] - 0s 118us/step - loss: 0.4841 - acc: 0.7638 - val_loss: 0.5618 - val_acc: 0.7155\n",
            "Epoch 127/300\n",
            "652/652 [==============================] - 0s 116us/step - loss: 0.4696 - acc: 0.7730 - val_loss: 0.5451 - val_acc: 0.7931\n",
            "Epoch 128/300\n",
            "652/652 [==============================] - 0s 119us/step - loss: 0.4831 - acc: 0.7684 - val_loss: 0.5426 - val_acc: 0.7845\n",
            "Epoch 129/300\n",
            "652/652 [==============================] - 0s 120us/step - loss: 0.4812 - acc: 0.7745 - val_loss: 0.5440 - val_acc: 0.7759\n",
            "Epoch 130/300\n",
            "652/652 [==============================] - 0s 118us/step - loss: 0.4679 - acc: 0.7761 - val_loss: 0.5398 - val_acc: 0.7672\n",
            "Epoch 131/300\n",
            "652/652 [==============================] - 0s 118us/step - loss: 0.4785 - acc: 0.7623 - val_loss: 0.5375 - val_acc: 0.7759\n",
            "Epoch 132/300\n",
            "652/652 [==============================] - 0s 120us/step - loss: 0.4651 - acc: 0.7715 - val_loss: 0.5483 - val_acc: 0.7500\n",
            "Epoch 133/300\n",
            "652/652 [==============================] - 0s 112us/step - loss: 0.4762 - acc: 0.7837 - val_loss: 0.6110 - val_acc: 0.6724\n",
            "Epoch 134/300\n",
            "652/652 [==============================] - 0s 116us/step - loss: 0.4946 - acc: 0.7638 - val_loss: 0.5820 - val_acc: 0.7155\n",
            "Epoch 135/300\n",
            "652/652 [==============================] - 0s 118us/step - loss: 0.4732 - acc: 0.7761 - val_loss: 0.5615 - val_acc: 0.7586\n",
            "Epoch 136/300\n",
            "652/652 [==============================] - 0s 119us/step - loss: 0.4809 - acc: 0.7546 - val_loss: 0.5373 - val_acc: 0.7931\n",
            "Epoch 137/300\n",
            "652/652 [==============================] - 0s 119us/step - loss: 0.4886 - acc: 0.7577 - val_loss: 0.5808 - val_acc: 0.7155\n",
            "Epoch 138/300\n",
            "652/652 [==============================] - 0s 125us/step - loss: 0.4675 - acc: 0.7822 - val_loss: 0.5414 - val_acc: 0.7672\n",
            "Epoch 139/300\n",
            "652/652 [==============================] - 0s 118us/step - loss: 0.4673 - acc: 0.7699 - val_loss: 0.6026 - val_acc: 0.7069\n",
            "Epoch 140/300\n",
            "652/652 [==============================] - 0s 118us/step - loss: 0.4820 - acc: 0.7607 - val_loss: 0.5389 - val_acc: 0.7672\n",
            "Epoch 141/300\n",
            "652/652 [==============================] - 0s 116us/step - loss: 0.4774 - acc: 0.7638 - val_loss: 0.5494 - val_acc: 0.7414\n",
            "Epoch 142/300\n",
            "652/652 [==============================] - 0s 116us/step - loss: 0.4817 - acc: 0.7715 - val_loss: 0.5446 - val_acc: 0.7586\n",
            "Epoch 143/300\n",
            "652/652 [==============================] - 0s 121us/step - loss: 0.4849 - acc: 0.7469 - val_loss: 0.5381 - val_acc: 0.7759\n",
            "Epoch 144/300\n",
            "652/652 [==============================] - 0s 137us/step - loss: 0.4653 - acc: 0.7791 - val_loss: 0.5913 - val_acc: 0.7155\n",
            "Epoch 145/300\n",
            "652/652 [==============================] - 0s 118us/step - loss: 0.4659 - acc: 0.7653 - val_loss: 0.5542 - val_acc: 0.7672\n",
            "Epoch 146/300\n",
            "652/652 [==============================] - 0s 122us/step - loss: 0.4712 - acc: 0.7669 - val_loss: 0.5303 - val_acc: 0.7845\n",
            "Epoch 147/300\n",
            "652/652 [==============================] - 0s 122us/step - loss: 0.4635 - acc: 0.7837 - val_loss: 0.5567 - val_acc: 0.7672\n",
            "Epoch 148/300\n",
            "652/652 [==============================] - 0s 116us/step - loss: 0.4818 - acc: 0.7592 - val_loss: 0.5515 - val_acc: 0.7500\n",
            "Epoch 149/300\n",
            "652/652 [==============================] - 0s 119us/step - loss: 0.4651 - acc: 0.7868 - val_loss: 0.5460 - val_acc: 0.7672\n",
            "Epoch 150/300\n",
            "652/652 [==============================] - 0s 117us/step - loss: 0.4628 - acc: 0.7837 - val_loss: 0.5476 - val_acc: 0.7241\n",
            "Epoch 151/300\n",
            "652/652 [==============================] - 0s 114us/step - loss: 0.4591 - acc: 0.7822 - val_loss: 0.5787 - val_acc: 0.7241\n",
            "Epoch 152/300\n",
            "652/652 [==============================] - 0s 113us/step - loss: 0.4748 - acc: 0.7684 - val_loss: 0.6169 - val_acc: 0.6897\n",
            "Epoch 153/300\n",
            "652/652 [==============================] - 0s 121us/step - loss: 0.4544 - acc: 0.7853 - val_loss: 0.5812 - val_acc: 0.7069\n",
            "Epoch 154/300\n",
            "652/652 [==============================] - 0s 119us/step - loss: 0.4745 - acc: 0.7791 - val_loss: 0.5503 - val_acc: 0.7414\n",
            "Epoch 155/300\n",
            "652/652 [==============================] - 0s 120us/step - loss: 0.4783 - acc: 0.7638 - val_loss: 0.5429 - val_acc: 0.7586\n",
            "Epoch 156/300\n",
            "652/652 [==============================] - 0s 121us/step - loss: 0.4720 - acc: 0.7592 - val_loss: 0.5462 - val_acc: 0.7586\n",
            "Epoch 157/300\n",
            "652/652 [==============================] - 0s 119us/step - loss: 0.4589 - acc: 0.7807 - val_loss: 0.5408 - val_acc: 0.7586\n",
            "Epoch 158/300\n",
            "652/652 [==============================] - 0s 122us/step - loss: 0.4845 - acc: 0.7546 - val_loss: 0.5488 - val_acc: 0.7155\n",
            "Epoch 159/300\n",
            "652/652 [==============================] - 0s 116us/step - loss: 0.4571 - acc: 0.7791 - val_loss: 0.5724 - val_acc: 0.7672\n",
            "Epoch 160/300\n",
            "652/652 [==============================] - 0s 113us/step - loss: 0.4744 - acc: 0.7899 - val_loss: 0.6475 - val_acc: 0.6810\n",
            "Epoch 161/300\n",
            "652/652 [==============================] - 0s 114us/step - loss: 0.4764 - acc: 0.7684 - val_loss: 0.5323 - val_acc: 0.7759\n",
            "Epoch 162/300\n",
            "652/652 [==============================] - 0s 116us/step - loss: 0.4654 - acc: 0.7730 - val_loss: 0.5900 - val_acc: 0.6983\n",
            "Epoch 163/300\n",
            "652/652 [==============================] - 0s 121us/step - loss: 0.4542 - acc: 0.7745 - val_loss: 0.5413 - val_acc: 0.7672\n",
            "Epoch 164/300\n",
            "652/652 [==============================] - 0s 117us/step - loss: 0.4649 - acc: 0.7868 - val_loss: 0.5453 - val_acc: 0.7672\n",
            "Epoch 165/300\n",
            "652/652 [==============================] - 0s 118us/step - loss: 0.4572 - acc: 0.7807 - val_loss: 0.5399 - val_acc: 0.7586\n",
            "Epoch 166/300\n",
            "652/652 [==============================] - 0s 118us/step - loss: 0.4558 - acc: 0.7837 - val_loss: 0.6131 - val_acc: 0.6897\n",
            "Epoch 167/300\n",
            "652/652 [==============================] - 0s 118us/step - loss: 0.4637 - acc: 0.7653 - val_loss: 0.5844 - val_acc: 0.7069\n",
            "Epoch 168/300\n",
            "652/652 [==============================] - 0s 118us/step - loss: 0.4677 - acc: 0.7868 - val_loss: 0.5256 - val_acc: 0.7759\n",
            "Epoch 169/300\n",
            "652/652 [==============================] - 0s 121us/step - loss: 0.4556 - acc: 0.7883 - val_loss: 0.5813 - val_acc: 0.7155\n",
            "Epoch 170/300\n",
            "652/652 [==============================] - 0s 118us/step - loss: 0.4630 - acc: 0.7853 - val_loss: 0.5416 - val_acc: 0.7328\n",
            "Epoch 171/300\n",
            "652/652 [==============================] - 0s 122us/step - loss: 0.4647 - acc: 0.7638 - val_loss: 0.5356 - val_acc: 0.7759\n",
            "Epoch 172/300\n",
            "652/652 [==============================] - 0s 126us/step - loss: 0.4603 - acc: 0.7914 - val_loss: 0.5491 - val_acc: 0.7500\n",
            "Epoch 173/300\n",
            "652/652 [==============================] - 0s 120us/step - loss: 0.4514 - acc: 0.7807 - val_loss: 0.5574 - val_acc: 0.7759\n",
            "Epoch 174/300\n",
            "652/652 [==============================] - 0s 121us/step - loss: 0.4764 - acc: 0.7822 - val_loss: 0.5653 - val_acc: 0.7241\n",
            "Epoch 175/300\n",
            "652/652 [==============================] - 0s 120us/step - loss: 0.4611 - acc: 0.7745 - val_loss: 0.5508 - val_acc: 0.7672\n",
            "Epoch 176/300\n",
            "652/652 [==============================] - 0s 120us/step - loss: 0.4694 - acc: 0.7761 - val_loss: 0.5947 - val_acc: 0.6810\n",
            "Epoch 177/300\n",
            "652/652 [==============================] - 0s 116us/step - loss: 0.4609 - acc: 0.7745 - val_loss: 0.5556 - val_acc: 0.7155\n",
            "Epoch 178/300\n",
            "652/652 [==============================] - 0s 121us/step - loss: 0.4743 - acc: 0.7730 - val_loss: 0.5461 - val_acc: 0.7328\n",
            "Epoch 179/300\n",
            "652/652 [==============================] - 0s 121us/step - loss: 0.4633 - acc: 0.7761 - val_loss: 0.5356 - val_acc: 0.7759\n",
            "Epoch 180/300\n",
            "652/652 [==============================] - 0s 123us/step - loss: 0.4492 - acc: 0.8006 - val_loss: 0.5438 - val_acc: 0.7759\n",
            "Epoch 181/300\n",
            "652/652 [==============================] - 0s 169us/step - loss: 0.4602 - acc: 0.7914 - val_loss: 0.5367 - val_acc: 0.7586\n",
            "Epoch 182/300\n",
            "652/652 [==============================] - 0s 118us/step - loss: 0.4538 - acc: 0.8006 - val_loss: 0.5568 - val_acc: 0.7155\n",
            "Epoch 183/300\n",
            "652/652 [==============================] - 0s 119us/step - loss: 0.4549 - acc: 0.7791 - val_loss: 0.5300 - val_acc: 0.7759\n",
            "Epoch 184/300\n",
            "652/652 [==============================] - 0s 117us/step - loss: 0.4646 - acc: 0.7837 - val_loss: 0.5264 - val_acc: 0.7672\n",
            "Epoch 185/300\n",
            "652/652 [==============================] - 0s 119us/step - loss: 0.4611 - acc: 0.7868 - val_loss: 0.6012 - val_acc: 0.6810\n",
            "Epoch 186/300\n",
            "652/652 [==============================] - 0s 119us/step - loss: 0.4565 - acc: 0.7868 - val_loss: 0.5368 - val_acc: 0.7414\n",
            "Epoch 187/300\n",
            "652/652 [==============================] - 0s 121us/step - loss: 0.4472 - acc: 0.7883 - val_loss: 0.5331 - val_acc: 0.8017\n",
            "Epoch 188/300\n",
            "652/652 [==============================] - 0s 117us/step - loss: 0.4506 - acc: 0.7822 - val_loss: 0.5521 - val_acc: 0.7328\n",
            "Epoch 189/300\n",
            "652/652 [==============================] - 0s 119us/step - loss: 0.4661 - acc: 0.7822 - val_loss: 0.5400 - val_acc: 0.7672\n",
            "Epoch 190/300\n",
            "652/652 [==============================] - 0s 116us/step - loss: 0.4643 - acc: 0.7853 - val_loss: 0.5268 - val_acc: 0.7845\n",
            "Epoch 191/300\n",
            "652/652 [==============================] - 0s 119us/step - loss: 0.4534 - acc: 0.7822 - val_loss: 0.5387 - val_acc: 0.7586\n",
            "Epoch 192/300\n",
            "652/652 [==============================] - 0s 123us/step - loss: 0.4473 - acc: 0.7868 - val_loss: 0.5283 - val_acc: 0.7931\n",
            "Epoch 193/300\n",
            "652/652 [==============================] - 0s 118us/step - loss: 0.4549 - acc: 0.7914 - val_loss: 0.5466 - val_acc: 0.7500\n",
            "Epoch 194/300\n",
            "652/652 [==============================] - 0s 122us/step - loss: 0.4600 - acc: 0.7929 - val_loss: 0.5478 - val_acc: 0.7414\n",
            "Epoch 195/300\n",
            "652/652 [==============================] - 0s 125us/step - loss: 0.4431 - acc: 0.7929 - val_loss: 0.5302 - val_acc: 0.7845\n",
            "Epoch 196/300\n",
            "652/652 [==============================] - 0s 119us/step - loss: 0.4433 - acc: 0.7883 - val_loss: 0.5281 - val_acc: 0.7672\n",
            "Epoch 197/300\n",
            "652/652 [==============================] - 0s 119us/step - loss: 0.4689 - acc: 0.7761 - val_loss: 0.5492 - val_acc: 0.7069\n",
            "Epoch 198/300\n",
            "652/652 [==============================] - 0s 118us/step - loss: 0.4552 - acc: 0.7883 - val_loss: 0.5413 - val_acc: 0.7672\n",
            "Epoch 199/300\n",
            "652/652 [==============================] - 0s 124us/step - loss: 0.4446 - acc: 0.7868 - val_loss: 0.5359 - val_acc: 0.7586\n",
            "Epoch 200/300\n",
            "652/652 [==============================] - 0s 115us/step - loss: 0.4422 - acc: 0.7929 - val_loss: 0.5288 - val_acc: 0.7845\n",
            "Epoch 201/300\n",
            "652/652 [==============================] - 0s 115us/step - loss: 0.4428 - acc: 0.7991 - val_loss: 0.5628 - val_acc: 0.7241\n",
            "Epoch 202/300\n",
            "652/652 [==============================] - 0s 118us/step - loss: 0.4493 - acc: 0.7837 - val_loss: 0.5268 - val_acc: 0.7931\n",
            "Epoch 203/300\n",
            "652/652 [==============================] - 0s 117us/step - loss: 0.4751 - acc: 0.7822 - val_loss: 0.5244 - val_acc: 0.7672\n",
            "Epoch 204/300\n",
            "652/652 [==============================] - 0s 121us/step - loss: 0.4600 - acc: 0.7868 - val_loss: 0.5867 - val_acc: 0.7241\n",
            "Epoch 205/300\n",
            "652/652 [==============================] - 0s 146us/step - loss: 0.4823 - acc: 0.7730 - val_loss: 0.5211 - val_acc: 0.7586\n",
            "Epoch 206/300\n",
            "652/652 [==============================] - 0s 115us/step - loss: 0.4555 - acc: 0.7868 - val_loss: 0.5752 - val_acc: 0.7155\n",
            "Epoch 207/300\n",
            "652/652 [==============================] - 0s 129us/step - loss: 0.4567 - acc: 0.7807 - val_loss: 0.5294 - val_acc: 0.7845\n",
            "Epoch 208/300\n",
            "652/652 [==============================] - 0s 119us/step - loss: 0.4549 - acc: 0.7929 - val_loss: 0.5399 - val_acc: 0.7328\n",
            "Epoch 209/300\n",
            "652/652 [==============================] - 0s 119us/step - loss: 0.4499 - acc: 0.7807 - val_loss: 0.5409 - val_acc: 0.7414\n",
            "Epoch 210/300\n",
            "652/652 [==============================] - 0s 125us/step - loss: 0.4561 - acc: 0.7883 - val_loss: 0.5354 - val_acc: 0.7672\n",
            "Epoch 211/300\n",
            "652/652 [==============================] - 0s 117us/step - loss: 0.4602 - acc: 0.7791 - val_loss: 0.5285 - val_acc: 0.7672\n",
            "Epoch 212/300\n",
            "652/652 [==============================] - 0s 115us/step - loss: 0.4530 - acc: 0.7837 - val_loss: 0.5365 - val_acc: 0.7414\n",
            "Epoch 213/300\n",
            "652/652 [==============================] - 0s 121us/step - loss: 0.4414 - acc: 0.8052 - val_loss: 0.5350 - val_acc: 0.7586\n",
            "Epoch 214/300\n",
            "652/652 [==============================] - 0s 123us/step - loss: 0.4525 - acc: 0.7914 - val_loss: 0.5309 - val_acc: 0.7931\n",
            "Epoch 215/300\n",
            "652/652 [==============================] - 0s 117us/step - loss: 0.4501 - acc: 0.7883 - val_loss: 0.5247 - val_acc: 0.7931\n",
            "Epoch 216/300\n",
            "652/652 [==============================] - 0s 122us/step - loss: 0.4512 - acc: 0.7776 - val_loss: 0.5403 - val_acc: 0.7672\n",
            "Epoch 217/300\n",
            "652/652 [==============================] - 0s 119us/step - loss: 0.4578 - acc: 0.7868 - val_loss: 0.5397 - val_acc: 0.7845\n",
            "Epoch 218/300\n",
            "652/652 [==============================] - 0s 121us/step - loss: 0.4457 - acc: 0.7914 - val_loss: 0.5570 - val_acc: 0.7586\n",
            "Epoch 219/300\n",
            "652/652 [==============================] - 0s 134us/step - loss: 0.4516 - acc: 0.7730 - val_loss: 0.5497 - val_acc: 0.7328\n",
            "Epoch 220/300\n",
            "652/652 [==============================] - 0s 126us/step - loss: 0.4330 - acc: 0.8067 - val_loss: 0.5310 - val_acc: 0.7759\n",
            "Epoch 221/300\n",
            "652/652 [==============================] - 0s 137us/step - loss: 0.4326 - acc: 0.8037 - val_loss: 0.5637 - val_acc: 0.7328\n",
            "Epoch 222/300\n",
            "652/652 [==============================] - 0s 116us/step - loss: 0.4475 - acc: 0.8006 - val_loss: 0.5484 - val_acc: 0.7328\n",
            "Epoch 223/300\n",
            "652/652 [==============================] - 0s 121us/step - loss: 0.4422 - acc: 0.7960 - val_loss: 0.5383 - val_acc: 0.7586\n",
            "Epoch 224/300\n",
            "652/652 [==============================] - 0s 120us/step - loss: 0.4501 - acc: 0.7975 - val_loss: 0.5588 - val_acc: 0.7241\n",
            "Epoch 225/300\n",
            "652/652 [==============================] - 0s 117us/step - loss: 0.4531 - acc: 0.7730 - val_loss: 0.5416 - val_acc: 0.7672\n",
            "Epoch 226/300\n",
            "652/652 [==============================] - 0s 117us/step - loss: 0.4475 - acc: 0.7914 - val_loss: 0.5545 - val_acc: 0.7414\n",
            "Epoch 227/300\n",
            "652/652 [==============================] - 0s 119us/step - loss: 0.4440 - acc: 0.8037 - val_loss: 0.5588 - val_acc: 0.7241\n",
            "Epoch 228/300\n",
            "652/652 [==============================] - 0s 119us/step - loss: 0.4423 - acc: 0.7883 - val_loss: 0.5289 - val_acc: 0.7586\n",
            "Epoch 229/300\n",
            "652/652 [==============================] - 0s 120us/step - loss: 0.4430 - acc: 0.7914 - val_loss: 0.5553 - val_acc: 0.7241\n",
            "Epoch 230/300\n",
            "652/652 [==============================] - 0s 127us/step - loss: 0.4402 - acc: 0.7945 - val_loss: 0.5647 - val_acc: 0.7241\n",
            "Epoch 231/300\n",
            "652/652 [==============================] - 0s 120us/step - loss: 0.4541 - acc: 0.7914 - val_loss: 0.5449 - val_acc: 0.7414\n",
            "Epoch 232/300\n",
            "652/652 [==============================] - 0s 117us/step - loss: 0.4354 - acc: 0.7960 - val_loss: 0.5401 - val_acc: 0.7586\n",
            "Epoch 233/300\n",
            "652/652 [==============================] - 0s 145us/step - loss: 0.4549 - acc: 0.7837 - val_loss: 0.5331 - val_acc: 0.7845\n",
            "Epoch 234/300\n",
            "652/652 [==============================] - 0s 123us/step - loss: 0.4523 - acc: 0.7883 - val_loss: 0.5558 - val_acc: 0.7241\n",
            "Epoch 235/300\n",
            "652/652 [==============================] - 0s 120us/step - loss: 0.4352 - acc: 0.7929 - val_loss: 0.5303 - val_acc: 0.7672\n",
            "Epoch 236/300\n",
            "652/652 [==============================] - 0s 115us/step - loss: 0.4606 - acc: 0.7791 - val_loss: 0.5512 - val_acc: 0.7328\n",
            "Epoch 237/300\n",
            "652/652 [==============================] - 0s 114us/step - loss: 0.4565 - acc: 0.8052 - val_loss: 0.5477 - val_acc: 0.7414\n",
            "Epoch 238/300\n",
            "652/652 [==============================] - 0s 119us/step - loss: 0.4411 - acc: 0.7853 - val_loss: 0.5318 - val_acc: 0.7845\n",
            "Epoch 239/300\n",
            "652/652 [==============================] - 0s 120us/step - loss: 0.4372 - acc: 0.7991 - val_loss: 0.5457 - val_acc: 0.7759\n",
            "Epoch 240/300\n",
            "652/652 [==============================] - 0s 111us/step - loss: 0.4433 - acc: 0.7868 - val_loss: 0.5287 - val_acc: 0.7672\n",
            "Epoch 241/300\n",
            "652/652 [==============================] - 0s 119us/step - loss: 0.4322 - acc: 0.8037 - val_loss: 0.5217 - val_acc: 0.7500\n",
            "Epoch 242/300\n",
            "652/652 [==============================] - 0s 115us/step - loss: 0.4428 - acc: 0.7960 - val_loss: 0.5274 - val_acc: 0.7586\n",
            "Epoch 243/300\n",
            "652/652 [==============================] - 0s 118us/step - loss: 0.4341 - acc: 0.7960 - val_loss: 0.5328 - val_acc: 0.7931\n",
            "Epoch 244/300\n",
            "652/652 [==============================] - 0s 122us/step - loss: 0.4505 - acc: 0.7761 - val_loss: 0.5348 - val_acc: 0.7845\n",
            "Epoch 245/300\n",
            "652/652 [==============================] - 0s 121us/step - loss: 0.4531 - acc: 0.7914 - val_loss: 0.5448 - val_acc: 0.7759\n",
            "Epoch 246/300\n",
            "652/652 [==============================] - 0s 131us/step - loss: 0.4386 - acc: 0.7945 - val_loss: 0.5522 - val_acc: 0.7414\n",
            "Epoch 247/300\n",
            "652/652 [==============================] - 0s 124us/step - loss: 0.4394 - acc: 0.7868 - val_loss: 0.5335 - val_acc: 0.7759\n",
            "Epoch 248/300\n",
            "652/652 [==============================] - 0s 122us/step - loss: 0.4525 - acc: 0.7991 - val_loss: 0.5232 - val_acc: 0.7759\n",
            "Epoch 249/300\n",
            "652/652 [==============================] - 0s 122us/step - loss: 0.4556 - acc: 0.7868 - val_loss: 0.5660 - val_acc: 0.7241\n",
            "Epoch 250/300\n",
            "652/652 [==============================] - 0s 121us/step - loss: 0.4393 - acc: 0.7807 - val_loss: 0.5272 - val_acc: 0.7672\n",
            "Epoch 251/300\n",
            "652/652 [==============================] - 0s 118us/step - loss: 0.4400 - acc: 0.7945 - val_loss: 0.5457 - val_acc: 0.7414\n",
            "Epoch 252/300\n",
            "652/652 [==============================] - 0s 118us/step - loss: 0.4496 - acc: 0.7991 - val_loss: 0.5329 - val_acc: 0.7414\n",
            "Epoch 253/300\n",
            "652/652 [==============================] - 0s 118us/step - loss: 0.4373 - acc: 0.7914 - val_loss: 0.5269 - val_acc: 0.7586\n",
            "Epoch 254/300\n",
            "652/652 [==============================] - 0s 124us/step - loss: 0.4383 - acc: 0.8037 - val_loss: 0.5336 - val_acc: 0.7586\n",
            "Epoch 255/300\n",
            "652/652 [==============================] - 0s 119us/step - loss: 0.4499 - acc: 0.7883 - val_loss: 0.5300 - val_acc: 0.7586\n",
            "Epoch 256/300\n",
            "652/652 [==============================] - 0s 119us/step - loss: 0.4303 - acc: 0.7929 - val_loss: 0.5274 - val_acc: 0.7500\n",
            "Epoch 257/300\n",
            "652/652 [==============================] - 0s 147us/step - loss: 0.4407 - acc: 0.7929 - val_loss: 0.5365 - val_acc: 0.7672\n",
            "Epoch 258/300\n",
            "652/652 [==============================] - 0s 130us/step - loss: 0.4360 - acc: 0.8052 - val_loss: 0.5773 - val_acc: 0.6983\n",
            "Epoch 259/300\n",
            "652/652 [==============================] - 0s 125us/step - loss: 0.4355 - acc: 0.8083 - val_loss: 0.5227 - val_acc: 0.8017\n",
            "Epoch 260/300\n",
            "652/652 [==============================] - 0s 127us/step - loss: 0.4514 - acc: 0.7822 - val_loss: 0.5402 - val_acc: 0.7586\n",
            "Epoch 261/300\n",
            "652/652 [==============================] - 0s 121us/step - loss: 0.4436 - acc: 0.7975 - val_loss: 0.5357 - val_acc: 0.8103\n",
            "Epoch 262/300\n",
            "652/652 [==============================] - 0s 114us/step - loss: 0.4509 - acc: 0.7853 - val_loss: 0.5248 - val_acc: 0.7500\n",
            "Epoch 263/300\n",
            "652/652 [==============================] - 0s 121us/step - loss: 0.4578 - acc: 0.7807 - val_loss: 0.5422 - val_acc: 0.7845\n",
            "Epoch 264/300\n",
            "652/652 [==============================] - 0s 114us/step - loss: 0.4401 - acc: 0.7945 - val_loss: 0.5199 - val_acc: 0.7759\n",
            "Epoch 265/300\n",
            "652/652 [==============================] - 0s 116us/step - loss: 0.4574 - acc: 0.7868 - val_loss: 0.5549 - val_acc: 0.7328\n",
            "Epoch 266/300\n",
            "652/652 [==============================] - 0s 120us/step - loss: 0.4270 - acc: 0.8083 - val_loss: 0.5719 - val_acc: 0.7069\n",
            "Epoch 267/300\n",
            "652/652 [==============================] - 0s 117us/step - loss: 0.4395 - acc: 0.7899 - val_loss: 0.5425 - val_acc: 0.7586\n",
            "Epoch 268/300\n",
            "652/652 [==============================] - 0s 116us/step - loss: 0.4409 - acc: 0.7960 - val_loss: 0.5637 - val_acc: 0.7241\n",
            "Epoch 269/300\n",
            "652/652 [==============================] - 0s 119us/step - loss: 0.4453 - acc: 0.8037 - val_loss: 0.5918 - val_acc: 0.7155\n",
            "Epoch 270/300\n",
            "652/652 [==============================] - 0s 124us/step - loss: 0.4473 - acc: 0.7975 - val_loss: 0.5445 - val_acc: 0.7759\n",
            "Epoch 271/300\n",
            "652/652 [==============================] - 0s 122us/step - loss: 0.4445 - acc: 0.7975 - val_loss: 0.5275 - val_acc: 0.7759\n",
            "Epoch 272/300\n",
            "652/652 [==============================] - 0s 123us/step - loss: 0.4295 - acc: 0.7960 - val_loss: 0.5336 - val_acc: 0.7672\n",
            "Epoch 273/300\n",
            "652/652 [==============================] - 0s 118us/step - loss: 0.4373 - acc: 0.7807 - val_loss: 0.5597 - val_acc: 0.7241\n",
            "Epoch 274/300\n",
            "652/652 [==============================] - 0s 121us/step - loss: 0.4395 - acc: 0.7868 - val_loss: 0.5695 - val_acc: 0.7241\n",
            "Epoch 275/300\n",
            "652/652 [==============================] - 0s 119us/step - loss: 0.4339 - acc: 0.7975 - val_loss: 0.5503 - val_acc: 0.7328\n",
            "Epoch 276/300\n",
            "652/652 [==============================] - 0s 120us/step - loss: 0.4307 - acc: 0.8052 - val_loss: 0.5410 - val_acc: 0.7500\n",
            "Epoch 277/300\n",
            "652/652 [==============================] - 0s 122us/step - loss: 0.4413 - acc: 0.8037 - val_loss: 0.5780 - val_acc: 0.6983\n",
            "Epoch 278/300\n",
            "652/652 [==============================] - 0s 120us/step - loss: 0.4427 - acc: 0.7761 - val_loss: 0.5961 - val_acc: 0.7241\n",
            "Epoch 279/300\n",
            "652/652 [==============================] - 0s 117us/step - loss: 0.4506 - acc: 0.7945 - val_loss: 0.6244 - val_acc: 0.6897\n",
            "Epoch 280/300\n",
            "652/652 [==============================] - 0s 119us/step - loss: 0.4450 - acc: 0.7868 - val_loss: 0.5645 - val_acc: 0.7241\n",
            "Epoch 281/300\n",
            "652/652 [==============================] - 0s 116us/step - loss: 0.4420 - acc: 0.7837 - val_loss: 0.5311 - val_acc: 0.7672\n",
            "Epoch 282/300\n",
            "652/652 [==============================] - 0s 117us/step - loss: 0.4328 - acc: 0.7914 - val_loss: 0.5372 - val_acc: 0.7672\n",
            "Epoch 283/300\n",
            "652/652 [==============================] - 0s 119us/step - loss: 0.4461 - acc: 0.7914 - val_loss: 0.5479 - val_acc: 0.7759\n",
            "Epoch 284/300\n",
            "652/652 [==============================] - 0s 119us/step - loss: 0.4433 - acc: 0.7991 - val_loss: 0.5280 - val_acc: 0.7845\n",
            "Epoch 285/300\n",
            "652/652 [==============================] - 0s 118us/step - loss: 0.4439 - acc: 0.7776 - val_loss: 0.5247 - val_acc: 0.7759\n",
            "Epoch 286/300\n",
            "652/652 [==============================] - 0s 115us/step - loss: 0.4355 - acc: 0.8037 - val_loss: 0.6777 - val_acc: 0.6810\n",
            "Epoch 287/300\n",
            "652/652 [==============================] - 0s 117us/step - loss: 0.4293 - acc: 0.8067 - val_loss: 0.5357 - val_acc: 0.7759\n",
            "Epoch 288/300\n",
            "652/652 [==============================] - 0s 116us/step - loss: 0.4412 - acc: 0.7868 - val_loss: 0.5422 - val_acc: 0.7672\n",
            "Epoch 289/300\n",
            "652/652 [==============================] - 0s 120us/step - loss: 0.4348 - acc: 0.8098 - val_loss: 0.5835 - val_acc: 0.7328\n",
            "Epoch 290/300\n",
            "652/652 [==============================] - 0s 116us/step - loss: 0.4399 - acc: 0.7776 - val_loss: 0.5261 - val_acc: 0.7672\n",
            "Epoch 291/300\n",
            "652/652 [==============================] - 0s 120us/step - loss: 0.4552 - acc: 0.7669 - val_loss: 0.5495 - val_acc: 0.8017\n",
            "Epoch 292/300\n",
            "652/652 [==============================] - 0s 119us/step - loss: 0.4420 - acc: 0.7914 - val_loss: 0.5915 - val_acc: 0.7241\n",
            "Epoch 293/300\n",
            "652/652 [==============================] - 0s 125us/step - loss: 0.4541 - acc: 0.7868 - val_loss: 0.5575 - val_acc: 0.7500\n",
            "Epoch 294/300\n",
            "652/652 [==============================] - 0s 118us/step - loss: 0.4388 - acc: 0.7991 - val_loss: 0.5319 - val_acc: 0.7586\n",
            "Epoch 295/300\n",
            "652/652 [==============================] - 0s 120us/step - loss: 0.4388 - acc: 0.7945 - val_loss: 0.5321 - val_acc: 0.7672\n",
            "Epoch 296/300\n",
            "652/652 [==============================] - 0s 118us/step - loss: 0.4285 - acc: 0.8067 - val_loss: 0.5345 - val_acc: 0.7500\n",
            "Epoch 297/300\n",
            "652/652 [==============================] - 0s 117us/step - loss: 0.4328 - acc: 0.7914 - val_loss: 0.5663 - val_acc: 0.7241\n",
            "Epoch 298/300\n",
            "652/652 [==============================] - 0s 121us/step - loss: 0.4309 - acc: 0.7899 - val_loss: 0.5399 - val_acc: 0.7586\n",
            "Epoch 299/300\n",
            "652/652 [==============================] - 0s 120us/step - loss: 0.4193 - acc: 0.8113 - val_loss: 0.7281 - val_acc: 0.6638\n",
            "Epoch 300/300\n",
            "652/652 [==============================] - 0s 121us/step - loss: 0.4466 - acc: 0.7883 - val_loss: 0.5690 - val_acc: 0.7241\n"
          ],
          "name": "stdout"
        }
      ]
    },
    {
      "cell_type": "code",
      "metadata": {
        "id": "0afQpbJCZ5Qo",
        "colab_type": "code",
        "colab": {
          "base_uri": "https://localhost:8080/",
          "height": 34
        },
        "outputId": "102ca6a6-20f2-4c5f-9ec4-c3b0da752d42"
      },
      "source": [
        "# list all data in history\n",
        "print(history.history.keys())"
      ],
      "execution_count": 17,
      "outputs": [
        {
          "output_type": "stream",
          "text": [
            "dict_keys(['val_loss', 'val_acc', 'loss', 'acc'])\n"
          ],
          "name": "stdout"
        }
      ]
    },
    {
      "cell_type": "code",
      "metadata": {
        "id": "sHlEBr9EZ5Qv",
        "colab_type": "code",
        "colab": {
          "base_uri": "https://localhost:8080/",
          "height": 295
        },
        "outputId": "478dde3e-17d3-4a8f-b1f3-310195e5c758"
      },
      "source": [
        "# Plot the History of Training Loss (history.history['loss']) and the Validation Loss (history.history['val_loss'])\n",
        "# Title should be \"Model Loss\"\n",
        "# x label: \"Loss\"\n",
        "# y label: \"Epoch\"\n",
        "# Legend: \"Train\" and \"Validation\"\n",
        "# TODO\n",
        "plt.plot(history.history['loss'])\n",
        "plt.plot(history.history['val_loss'])\n",
        "plt.title('Model Loss')\n",
        "plt.xlabel('Loss')\n",
        "plt.ylabel('Epoch')\n",
        "plt.legend(['Train', 'Validation'])\n",
        "plt.show()"
      ],
      "execution_count": 18,
      "outputs": [
        {
          "output_type": "display_data",
          "data": {
            "image/png": "[encoded data removed]",
            "text/plain": [
              "<Figure size 432x288 with 1 Axes>"
            ]
          },
          "metadata": {
            "tags": []
          }
        }
      ]
    },
    {
      "cell_type": "code",
      "metadata": {
        "id": "M9vYSh0FZ5Qx",
        "colab_type": "code",
        "colab": {
          "base_uri": "https://localhost:8080/",
          "height": 295
        },
        "outputId": "c4804493-c282-4716-880f-ef62f9527eb3"
      },
      "source": [
        "# Plot the History of Training Accuracy (history.history['acc']) and \n",
        "# the Validation Accuracy (history.history['val_loss'])\n",
        "#\n",
        "# Title should be \"Model Accuracy\"\n",
        "# x label: \"Accuracy\"\n",
        "# y label: \"Epoch\"\n",
        "# Legend: \"Train\" and \"Validation\"\n",
        "# TODO\n",
        "plt.plot(history.history['acc'])\n",
        "plt.plot(history.history['val_loss'])\n",
        "plt.title('Model Accuracy')\n",
        "plt.xlabel('Accuracy')\n",
        "plt.ylabel('Epoch')\n",
        "plt.legend(['Train', 'Validation'])\n",
        "plt.show()"
      ],
      "execution_count": 19,
      "outputs": [
        {
          "output_type": "display_data",
          "data": {
            "image/png": "[encoded data removed]",
            "text/plain": [
              "<Figure size 432x288 with 1 Axes>"
            ]
          },
          "metadata": {
            "tags": []
          }
        }
      ]
    },
    {
      "cell_type": "code",
      "metadata": {
        "id": "gU6y3UaCZ5Q1",
        "colab_type": "code",
        "colab": {
          "base_uri": "https://localhost:8080/",
          "height": 34
        },
        "outputId": "a0ebaef6-aa61-49be-ab5d-a42806e721fe"
      },
      "source": [
        "# Evaluate the loss and accuracy on the test data\n",
        "loss, accuracy = model.evaluate(X_test, y_test)"
      ],
      "execution_count": 20,
      "outputs": [
        {
          "output_type": "stream",
          "text": [
            "116/116 [==============================] - 0s 72us/step\n"
          ],
          "name": "stdout"
        }
      ]
    },
    {
      "cell_type": "code",
      "metadata": {
        "id": "q6dd3YjoZ5Q8",
        "colab_type": "code",
        "colab": {
          "base_uri": "https://localhost:8080/",
          "height": 51
        },
        "outputId": "028f05de-901e-483a-f766-0b4a1282daa1"
      },
      "source": [
        "print('Test score:', loss)\n",
        "print('Test accuracy:', accuracy)"
      ],
      "execution_count": 21,
      "outputs": [
        {
          "output_type": "stream",
          "text": [
            "Test score: 0.4379977239616986\n",
            "Test accuracy: 0.7672413751996797\n"
          ],
          "name": "stdout"
        }
      ]
    }
  ]
}